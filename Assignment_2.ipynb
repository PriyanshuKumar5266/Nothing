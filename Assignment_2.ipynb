{
  "nbformat": 4,
  "nbformat_minor": 0,
  "metadata": {
    "colab": {
      "provenance": [],
      "authorship_tag": "ABX9TyOCnL09NkgcR9PlK0twTAEL",
      "include_colab_link": true
    },
    "kernelspec": {
      "name": "python3",
      "display_name": "Python 3"
    },
    "language_info": {
      "name": "python"
    }
  },
  "cells": [
    {
      "cell_type": "markdown",
      "metadata": {
        "id": "view-in-github",
        "colab_type": "text"
      },
      "source": [
        "<a href=\"https://colab.research.google.com/github/PriyanshuKumar5266/Nothing/blob/main/Assignment_2.ipynb\" target=\"_parent\"><img src=\"https://colab.research.google.com/assets/colab-badge.svg\" alt=\"Open In Colab\"/></a>"
      ]
    },
    {
      "cell_type": "markdown",
      "source": [
        "Name : Priyanshu Kumar\n",
        "\n",
        "Rg. No. : 2024UG1042\n",
        "\n",
        "Section : A\n",
        "\n",
        "Topic : Functions with NumPy & Metaplotib"
      ],
      "metadata": {
        "id": "h8EMcH41irqR"
      }
    },
    {
      "cell_type": "markdown",
      "source": [
        "#Part A: Basic Functions (Q1 – Q6)"
      ],
      "metadata": {
        "id": "f7mSn4CZkNE2"
      }
    },
    {
      "cell_type": "markdown",
      "source": [
        "Q1. Write a function welcome() that prints:\n",
        "\"Welcome to Python Fitness Tracker\n",
        "🏃‍♂️\n",
        " \" Call the function 3 times."
      ],
      "metadata": {
        "id": "xQ70DYbeWJfh"
      }
    },
    {
      "cell_type": "code",
      "source": [
        "def welcome():\n",
        "    \"\"\"Prints a welcome message.\"\"\"\n",
        "    print(\"Welcome to Python Fitness Tracker 🏃‍♂️\")\n",
        "# Calling function 3 times.\n",
        "welcome()\n",
        "welcome()\n",
        "welcome()"
      ],
      "metadata": {
        "colab": {
          "base_uri": "https://localhost:8080/"
        },
        "id": "XHSEWhLLVyeE",
        "outputId": "b4b68617-f26c-43d3-b7d4-7f1bc4a5e0a5"
      },
      "execution_count": 48,
      "outputs": [
        {
          "output_type": "stream",
          "name": "stdout",
          "text": [
            "Welcome to Python Fitness Tracker 🏃‍♂️\n",
            "Welcome to Python Fitness Tracker 🏃‍♂️\n",
            "Welcome to Python Fitness Tracker 🏃‍♂️\n"
          ]
        }
      ]
    },
    {
      "cell_type": "markdown",
      "source": [
        "Q2. Write a function bmi(weight, height) that returns the Body Mass Index (BMI).\n",
        "\n",
        "Formula: BMI = weight / height**2\n",
        "Example: print(bmi(68, 1.75))\n"
      ],
      "metadata": {
        "id": "bs7_xxxQWgrJ"
      }
    },
    {
      "cell_type": "code",
      "source": [
        "def bmi(weight, height):\n",
        "    \"\"\"Calculates BMI (weight / height**2).\"\"\"\n",
        "    result = weight / (height ** 2)\n",
        "    print(f\"BMI({weight} kg, {height} m) = {result}\")\n",
        "    return result\n",
        "# Example call\n",
        "bmi(68, 1.75)"
      ],
      "metadata": {
        "colab": {
          "base_uri": "https://localhost:8080/"
        },
        "id": "mkTNpBY0WzQV",
        "outputId": "4a961fd1-2ea1-4770-f07a-2a813f5ebbcc"
      },
      "execution_count": 49,
      "outputs": [
        {
          "output_type": "stream",
          "name": "stdout",
          "text": [
            "BMI(68 kg, 1.75 m) = 22.20408163265306\n"
          ]
        },
        {
          "output_type": "execute_result",
          "data": {
            "text/plain": [
              "22.20408163265306"
            ]
          },
          "metadata": {},
          "execution_count": 49
        }
      ]
    },
    {
      "cell_type": "markdown",
      "source": [
        "Q3. Write a function calories_burned(duration, rate=10) that returns total calories as duration * rate.\n",
        "\n",
        "Call the function once with one argument and once with both arguments."
      ],
      "metadata": {
        "id": "cDRsjDMLXJun"
      }
    },
    {
      "cell_type": "code",
      "source": [
        "def calories_burned(duration, rate=10):\n",
        "    \"\"\"Calculates total calories burned (duration * rate).\"\"\"\n",
        "    total = duration * rate\n",
        "    return total\n",
        "# Call with only one argument (uses default rate=10)\n",
        "print(f\"30 minutes workout: {calories_burned(30)} calories\")\n",
        "# Call with both arguments\n",
        "print(f\"45 minutes workout: {calories_burned(45, 12)} calories\")"
      ],
      "metadata": {
        "colab": {
          "base_uri": "https://localhost:8080/"
        },
        "id": "4ODBopdcXRNw",
        "outputId": "1336617d-df20-40f7-817d-efddec67465e"
      },
      "execution_count": 50,
      "outputs": [
        {
          "output_type": "stream",
          "name": "stdout",
          "text": [
            "30 minutes workout: 300 calories\n",
            "45 minutes workout: 540 calories\n"
          ]
        }
      ]
    },
    {
      "cell_type": "markdown",
      "source": [
        "Q4. Create a function heart_rate_stats(max_bpm, avg_bpm, resting_bpm) that returns:\n",
        "\n",
        "● Heart Rate Reserve = max_bpm - resting_bpm\n",
        "\n",
        "● Average Difference = avg_bpm - resting_bpm\n",
        "\n",
        "Print both returned values separately."
      ],
      "metadata": {
        "id": "4KayU6_XXesl"
      }
    },
    {
      "cell_type": "code",
      "source": [
        "def heart_rate_stats(max_bpm, avg_bpm, resting_bpm):\n",
        "    \"\"\"\n",
        "    Returns Heart Rate Reserve and Average Difference.\n",
        "    HRR = max_bpm - resting_bpm\n",
        "    Avg Difference = avg_bpm - resting_bpm\n",
        "    \"\"\"\n",
        "    heart_rate_reserve = max_bpm - resting_bpm\n",
        "    avg_difference = avg_bpm - resting_bpm\n",
        "    return heart_rate_reserve, avg_difference\n",
        "# Call the function and store the returned values\n",
        "hr_reserve, avg_diff = heart_rate_stats(190, 120, 60)\n",
        "# Print the results\n",
        "print(f\"Heart Rate Reserve: {hr_reserve} ({190} - {60} = {hr_reserve})\")\n",
        "print(f\"Average Difference: {avg_diff} ({120} - {60} = {avg_diff})\")"
      ],
      "metadata": {
        "colab": {
          "base_uri": "https://localhost:8080/"
        },
        "id": "IKMKnw4BWleY",
        "outputId": "ab5d9f90-fa4a-43ef-b6d7-ff4d8c98e264"
      },
      "execution_count": 51,
      "outputs": [
        {
          "output_type": "stream",
          "name": "stdout",
          "text": [
            "Heart Rate Reserve: 130 (190 - 60 = 130)\n",
            "Average Difference: 60 (120 - 60 = 60)\n"
          ]
        }
      ]
    },
    {
      "cell_type": "markdown",
      "source": [
        "Q5. Write a function workout_summary(name, duration, type='Cardio', calories=500) that prints:\n",
        "\"Amit completed 1.2 hours of Cardio and burned 500 calories.\" Call it using keyword arguments in\n",
        "random order."
      ],
      "metadata": {
        "id": "yZjgfSHsX1SB"
      }
    },
    {
      "cell_type": "code",
      "source": [
        "def workout_summary(name, duration, type='Cardio', calories=500):\n",
        "    \"\"\"Prints a workout summary using keyword arguments.\"\"\"\n",
        "    print(f\"{name} completed {duration} hours of {type} and burned {calories} calories.\")\n",
        "# Call it using keyword arguments in random order.\n",
        "workout_summary(calories=500, duration=1.2, name=\"Amit\", type=\"Cardio\")"
      ],
      "metadata": {
        "colab": {
          "base_uri": "https://localhost:8080/"
        },
        "id": "c9TqbQEGX8Qt",
        "outputId": "56f3c8ed-6095-4a3b-8096-ba910d97c1ed"
      },
      "execution_count": 52,
      "outputs": [
        {
          "output_type": "stream",
          "name": "stdout",
          "text": [
            "Amit completed 1.2 hours of Cardio and burned 500 calories.\n"
          ]
        }
      ]
    },
    {
      "cell_type": "markdown",
      "source": [
        "Q6. Create two functions:\n",
        "\n",
        "● add_calories(c1, c2) that returns sum of calories.\n",
        "\n",
        "● weekly_burn() that calls add_calories() 7 times for each day’s burn.\n",
        "\n",
        "Print total burn."
      ],
      "metadata": {
        "id": "OJBaJe4VYHeo"
      }
    },
    {
      "cell_type": "code",
      "source": [
        "def add_calories(c1, c2):\n",
        "    \"\"\"Returns the sum of calories from two activities.\"\"\"\n",
        "    return c1 + c2\n",
        "def weekly_burn(cals_per_day):\n",
        "    \"\"\"\n",
        "    Calculates total calories burned in a week.\n",
        "    It calls add_calories 7 times for each day's burn.\n",
        "    \"\"\"\n",
        "    # Example: assume all 7 days have the same burn\n",
        "    total_weekly_calories = 0\n",
        "    for day in range(7):\n",
        "        # We assume cals_per_day is the burn for a single day\n",
        "        # For simplicity, let's treat it as the daily calorie input.\n",
        "        # In a real scenario, you might pass a list of 7 daily burns.\n",
        "        total_weekly_calories = add_calories(total_weekly_calories, cals_per_day)\n",
        "    return total_weekly_calories\n",
        "# Example Call: Assume daily burn is 500 calories (200 + 300)\n",
        "daily_burn = 500\n",
        "total_burned_in_week = weekly_burn(daily_burn)\n",
        "print(f\"Total calories burned in a week: {total_burned_in_week}\")"
      ],
      "metadata": {
        "colab": {
          "base_uri": "https://localhost:8080/"
        },
        "id": "8_0mY5rbYO3v",
        "outputId": "880b92e3-77cb-451d-e46e-278cbb98ecf6"
      },
      "execution_count": 53,
      "outputs": [
        {
          "output_type": "stream",
          "name": "stdout",
          "text": [
            "Total calories burned in a week: 3500\n"
          ]
        }
      ]
    },
    {
      "cell_type": "markdown",
      "source": [
        "#Part B: Intermediate Functions (Q7 – Q13)"
      ],
      "metadata": {
        "id": "6xE7N9jaYapA"
      }
    },
    {
      "cell_type": "markdown",
      "source": [
        "Q7. Write a function fitness_profile(name, weight, height, age) that prints all details.\n",
        "\n",
        "Call it once using positional and once using keyword arguments."
      ],
      "metadata": {
        "id": "r4_D5aDnYjEA"
      }
    },
    {
      "cell_type": "code",
      "source": [
        "def fitness_profile(name, weight, height, age):\n",
        "    \"\"\"Prints all fitness details using positional and keyword arguments.\"\"\"\n",
        "    print(\"Fitness Profile:\")\n",
        "    print(f\"Name: {name}\")\n",
        "    print(f\"Weight: {weight} kg\")\n",
        "    print(f\"Height: {height} m\")\n",
        "    print(f\"Age: {age} years\")\n",
        "# Call the function using positional arguments\n",
        "print(\"\\nCall using positional arguments:\")\n",
        "fitness_profile(\"Amit\", 68, 1.75, 30)\n",
        "# Call the function using keyword arguments\n",
        "print(\"\\nCall using keyword arguments:\")\n",
        "fitness_profile(age=30, height=1.65, weight=70, name=\"Neha\")"
      ],
      "metadata": {
        "colab": {
          "base_uri": "https://localhost:8080/"
        },
        "id": "xwPz8EuOYpk2",
        "outputId": "4dcc5b1d-7574-4a2a-cfaf-e6c9062d2556"
      },
      "execution_count": 54,
      "outputs": [
        {
          "output_type": "stream",
          "name": "stdout",
          "text": [
            "\n",
            "Call using positional arguments:\n",
            "Fitness Profile:\n",
            "Name: Amit\n",
            "Weight: 68 kg\n",
            "Height: 1.75 m\n",
            "Age: 30 years\n",
            "\n",
            "Call using keyword arguments:\n",
            "Fitness Profile:\n",
            "Name: Neha\n",
            "Weight: 70 kg\n",
            "Height: 1.65 m\n",
            "Age: 30 years\n"
          ]
        }
      ]
    },
    {
      "cell_type": "markdown",
      "source": [
        "Q8. Write a function total_calories(*args) that returns the sum of all given calorie values.\n",
        "\n",
        "Example: print(total_calories(200, 300, 150, 400))"
      ],
      "metadata": {
        "id": "bDFXZN1HY2OW"
      }
    },
    {
      "cell_type": "code",
      "source": [
        "def total_calories(*args):\n",
        "    \"\"\"Accepts any number of calorie values and returns their sum.\"\"\"\n",
        "    total = 0\n",
        "    for calorie in args:\n",
        "        total += calorie\n",
        "    return total\n",
        "# Example call\n",
        "print(total_calories(200, 300, 150, 400))"
      ],
      "metadata": {
        "colab": {
          "base_uri": "https://localhost:8080/"
        },
        "id": "YL1WdE1EY7J5",
        "outputId": "ab794dda-9b91-45b9-b2ea-6500e275a471"
      },
      "execution_count": 55,
      "outputs": [
        {
          "output_type": "stream",
          "name": "stdout",
          "text": [
            "1050\n"
          ]
        }
      ]
    },
    {
      "cell_type": "markdown",
      "source": [
        "Q9. Define a function generate_profile(name, age, weight, height) that returns a dictionary with keys:\n",
        "\n",
        "Name, Age, Weight, Height, BMI."
      ],
      "metadata": {
        "id": "hYVLgREVZIyK"
      }
    },
    {
      "cell_type": "code",
      "source": [
        "def generate_profile(name, age, weight, height):\n",
        "    \"\"\"Calculates BMI and returns a profile dictionary.\"\"\"\n",
        "    bmi_val = weight / (height ** 2)\n",
        "    profile = {\n",
        "        'Name': name,\n",
        "        'Age': age,\n",
        "        'Weight': weight,\n",
        "        'Height': height,\n",
        "        'BMI': round(bmi_val, 8) # Rounding for cleaner output\n",
        "    }\n",
        "    return profile\n",
        "# Example call\n",
        "profile_data = generate_profile('Amit', 25, 68, 1.75)\n",
        "print(profile_data)"
      ],
      "metadata": {
        "colab": {
          "base_uri": "https://localhost:8080/"
        },
        "id": "45kmqIyNZScZ",
        "outputId": "1f5b4a9d-fb00-458f-eeb0-8a250cb8b2fb"
      },
      "execution_count": 56,
      "outputs": [
        {
          "output_type": "stream",
          "name": "stdout",
          "text": [
            "{'Name': 'Amit', 'Age': 25, 'Weight': 68, 'Height': 1.75, 'BMI': 22.20408163}\n"
          ]
        }
      ]
    },
    {
      "cell_type": "markdown",
      "source": [
        "Q10. Create a global variable bonus = 100.\n",
        "Define a function calorie_reward(burn) that adds bonus to burn.\n",
        "\n",
        "Then redefine it using a local variable bonus = 200 and observe difference."
      ],
      "metadata": {
        "id": "YNEBwBxFZab_"
      }
    },
    {
      "cell_type": "code",
      "source": [
        "# Global variable\n",
        "bonus = 100\n",
        "def calorie_reward(burn):\n",
        "    return burn + bonus\n",
        "print(\"Global bonus:\", calorie_reward(300))\n",
        "# Redefine with local variable\n",
        "def calorie_reward(burn):\n",
        "    bonus = 200   # Local variable\n",
        "    return burn + bonus\n",
        "print(\"Local bonus:\", calorie_reward(300))"
      ],
      "metadata": {
        "colab": {
          "base_uri": "https://localhost:8080/"
        },
        "id": "AZTfeyoNZitY",
        "outputId": "fee18b11-fcc7-493e-def8-1219360dc4bb"
      },
      "execution_count": 57,
      "outputs": [
        {
          "output_type": "stream",
          "name": "stdout",
          "text": [
            "Global bonus: 400\n",
            "Local bonus: 500\n"
          ]
        }
      ]
    },
    {
      "cell_type": "markdown",
      "source": [
        "Q11. Write a function calculate_HRR(max_bpm, resting_bpm, intensity=0.7) that returns Heart Rate\n",
        "Reserve zone."
      ],
      "metadata": {
        "id": "S2AykLvXadRf"
      }
    },
    {
      "cell_type": "code",
      "source": [
        "def calculate_HRR(max_bpm, resting_bpm, intensity=0.7):\n",
        "    \"\"\"Returns Heart Rate Reserve zone.\"\"\"\n",
        "    hrr = (max_bpm - resting_bpm) * intensity + resting_bpm\n",
        "    return round(hrr, 2)\n",
        "# Example calls\n",
        "print(\"HRR Zone (default intensity):\", calculate_HRR(190, 60))\n",
        "print(\"HRR Zone (80% intensity):\", calculate_HRR(190, 60, 0.8))"
      ],
      "metadata": {
        "colab": {
          "base_uri": "https://localhost:8080/"
        },
        "id": "v0wvQEqAai6J",
        "outputId": "c41a43df-3224-450e-b63a-d728ab54dbce"
      },
      "execution_count": 58,
      "outputs": [
        {
          "output_type": "stream",
          "name": "stdout",
          "text": [
            "HRR Zone (default intensity): 151.0\n",
            "HRR Zone (80% intensity): 164.0\n"
          ]
        }
      ]
    },
    {
      "cell_type": "markdown",
      "source": [
        "Q12. Write a function daily_burns(calories_list) that prints burn for each day and returns total."
      ],
      "metadata": {
        "id": "wzABRdu3au6i"
      }
    },
    {
      "cell_type": "code",
      "source": [
        "def daily_burns(cals):\n",
        "    [print(f\"Day {i+1}: {c}\") for i, c in enumerate(cals)]\n",
        "    return sum(cals)\n",
        "print(\"Total:\", daily_burns([300, 350, 400, 450, 500, 550, 600]))"
      ],
      "metadata": {
        "colab": {
          "base_uri": "https://localhost:8080/"
        },
        "id": "kcrsUNDoa0F-",
        "outputId": "a40a7364-cac8-4892-bc0a-41a47c71d6c8"
      },
      "execution_count": 59,
      "outputs": [
        {
          "output_type": "stream",
          "name": "stdout",
          "text": [
            "Day 1: 300\n",
            "Day 2: 350\n",
            "Day 3: 400\n",
            "Day 4: 450\n",
            "Day 5: 500\n",
            "Day 6: 550\n",
            "Day 7: 600\n",
            "Total: 3150\n"
          ]
        }
      ]
    },
    {
      "cell_type": "markdown",
      "source": [
        "Q13. Define a function filter_high_calories(calories, threshold) that returns all values > threshold.\n",
        "Use list comprehension inside."
      ],
      "metadata": {
        "id": "7nHZ_onObSmi"
      }
    },
    {
      "cell_type": "code",
      "source": [
        "def filter_high_calories(cals, threshold):\n",
        "    return [c for c in cals if c > threshold]\n",
        "print(filter_high_calories([200, 450, 300, 600, 150], 400))"
      ],
      "metadata": {
        "colab": {
          "base_uri": "https://localhost:8080/"
        },
        "id": "9YJ1b2YybYsQ",
        "outputId": "2d9f5624-09d1-4024-b9ab-9939964e1f0e"
      },
      "execution_count": 60,
      "outputs": [
        {
          "output_type": "stream",
          "name": "stdout",
          "text": [
            "[450, 600]\n"
          ]
        }
      ]
    },
    {
      "cell_type": "markdown",
      "source": [
        "[200, 450, 300, 600, 150, 500]"
      ],
      "metadata": {
        "id": "-nK3MyKyTC2p"
      }
    },
    {
      "cell_type": "markdown",
      "source": [
        "#Part C: Advanced Concepts (Q14 – Q20)"
      ],
      "metadata": {
        "id": "s2wsqGPYboFi"
      }
    },
    {
      "cell_type": "markdown",
      "source": [
        "Q14. Create a lambda function for BMI:\n",
        "\n",
        "bmi = lambda w, h: w / (h ** 2)\n",
        "\n",
        "Print result for (70, 1.75)."
      ],
      "metadata": {
        "id": "Umz-oMgzbuEW"
      }
    },
    {
      "cell_type": "code",
      "source": [
        "# Create a lambda function for BMI: w/h**2\n",
        "bmi_lambda = lambda w, h: w / (h ** 2)\n",
        "# Print result for BMI(68, 1.75)\n",
        "weight = 68\n",
        "height = 1.75\n",
        "result = bmi_lambda(weight, height)\n",
        "print(f\"BMI({weight}, {height}) = {result}\")"
      ],
      "metadata": {
        "colab": {
          "base_uri": "https://localhost:8080/"
        },
        "id": "Y4X_m9lVb0mP",
        "outputId": "0735a014-a39e-4199-8437-70d387fd8aaf"
      },
      "execution_count": 61,
      "outputs": [
        {
          "output_type": "stream",
          "name": "stdout",
          "text": [
            "BMI(68, 1.75) = 22.20408163265306\n"
          ]
        }
      ]
    },
    {
      "cell_type": "markdown",
      "source": [
        "Q15. Write a function square(n) and apply it using map() on [2,4,6,8].\n",
        "Print squared results."
      ],
      "metadata": {
        "id": "IXCkKjBkcDmB"
      }
    },
    {
      "cell_type": "code",
      "source": [
        "def square(x):\n",
        "    \"\"\"Returns the square of a number.\"\"\"\n",
        "    return x * x\n",
        "# Create a list of numbers\n",
        "numbers = [2, 4, 6, 8]\n",
        "# Use map() to apply the square() function to each element in the list\n",
        "squared_numbers_map = map(square, numbers)\n",
        "# Convert the map object to a list\n",
        "squared_numbers = list(squared_numbers_map)\n",
        "print(f\"Squared numbers: {squared_numbers}\")"
      ],
      "metadata": {
        "colab": {
          "base_uri": "https://localhost:8080/"
        },
        "id": "b-KzT6jacERq",
        "outputId": "711a443c-0b7c-495f-b956-d6b8a24a1520"
      },
      "execution_count": 62,
      "outputs": [
        {
          "output_type": "stream",
          "name": "stdout",
          "text": [
            "Squared numbers: [4, 16, 36, 64]\n"
          ]
        }
      ]
    },
    {
      "cell_type": "markdown",
      "source": [
        "Q16. Write a function is_high_burn(x) that returns True if x > 1000.\n",
        "Use filter() on list [800, 1200, 950, 1500, 700, 2000]."
      ],
      "metadata": {
        "id": "waVbAP_7cPkk"
      }
    },
    {
      "cell_type": "code",
      "source": [
        "def is_high_burn(x): return x > 1000\n",
        "burns = [800, 1200, 950, 1500, 700, 2000]\n",
        "print(list(filter(is_high_burn, burns)))"
      ],
      "metadata": {
        "colab": {
          "base_uri": "https://localhost:8080/"
        },
        "id": "zHSDVRvrcQTI",
        "outputId": "e49ce35d-8e3a-40ce-bd79-e44b94ee722e"
      },
      "execution_count": 63,
      "outputs": [
        {
          "output_type": "stream",
          "name": "stdout",
          "text": [
            "[1200, 1500, 2000]\n"
          ]
        }
      ]
    },
    {
      "cell_type": "markdown",
      "source": [
        "Q17. Write a recursive function sum_n(n) to return sum of first n natural numbers.\n",
        "Call sum_n(100)."
      ],
      "metadata": {
        "id": "W0JoOc8jcghu"
      }
    },
    {
      "cell_type": "code",
      "source": [
        "def sum_n(n):\n",
        "    \"\"\"Returns the sum of first n natural numbers recursively.\"\"\"\n",
        "    # Base case: when n is 1, the sum is 1\n",
        "    if n == 1:\n",
        "        return 1\n",
        "    # Recursive case: n + sum of numbers before it (n-1)\n",
        "    else:\n",
        "        return n + sum_n(n - 1)\n",
        "# Call the function with n = 100\n",
        "n_val = 100\n",
        "sum_of_n = sum_n(n_val)\n",
        "print(f\"Sum of first {n_val} natural numbers: {sum_of_n}\")"
      ],
      "metadata": {
        "colab": {
          "base_uri": "https://localhost:8080/"
        },
        "id": "tUiSNR7KchaG",
        "outputId": "37f2876d-5e67-4ceb-db6d-f3cd8db7454b"
      },
      "execution_count": 64,
      "outputs": [
        {
          "output_type": "stream",
          "name": "stdout",
          "text": [
            "Sum of first 100 natural numbers: 5050\n"
          ]
        }
      ]
    },
    {
      "cell_type": "markdown",
      "source": [
        "Q18. Write a recursive function factorial(n) to return n!\n",
        "Call factorial(6)."
      ],
      "metadata": {
        "id": "dHUfISOhcnbI"
      }
    },
    {
      "cell_type": "code",
      "source": [
        "def factorial(n):\n",
        "    \"\"\"Returns the factorial of a number recursively.\"\"\"\n",
        "    # Base case: factorial of 0 or 1 is 1\n",
        "    if n == 0 or n == 1:\n",
        "        return 1\n",
        "    # Recursive case: n * factorial of (n-1)\n",
        "    else:\n",
        "        return n * factorial(n - 1)\n",
        "# Call the function with n = 6\n",
        "n_val = 6\n",
        "fact_val = factorial(n_val)\n",
        "print(f\"Factorial of {n_val} is: {fact_val}\")"
      ],
      "metadata": {
        "colab": {
          "base_uri": "https://localhost:8080/"
        },
        "id": "tPjt2w73cvKH",
        "outputId": "f52c3cb4-2404-4940-d2ee-63dcf0008205"
      },
      "execution_count": 65,
      "outputs": [
        {
          "output_type": "stream",
          "name": "stdout",
          "text": [
            "Factorial of 6 is: 720\n"
          ]
        }
      ]
    },
    {
      "cell_type": "code",
      "source": [],
      "metadata": {
        "id": "gpgpOGLVc_sX"
      },
      "execution_count": 65,
      "outputs": []
    },
    {
      "cell_type": "code",
      "source": [],
      "metadata": {
        "id": "obSUv_Kfc_o9"
      },
      "execution_count": 65,
      "outputs": []
    },
    {
      "cell_type": "markdown",
      "source": [
        "Q19. Write a function mean_std(array) that returns mean and standard deviation using NumPy.\n",
        "\n",
        "Test: import numpy as np\n",
        "\n",
        "data = np.array([10,20,30,40,50])\n",
        "print(mean_std(data))\n"
      ],
      "metadata": {
        "id": "JsKm5eRMc7TX"
      }
    },
    {
      "cell_type": "code",
      "source": [
        "import numpy as np\n",
        "def mean_std(array):\n",
        "    \"\"\"\n",
        "    Returns the mean and standard deviation of a NumPy array.\n",
        "    \"\"\"\n",
        "    # Calculate mean using numpy's mean() function\n",
        "    mean_value = np.mean(array)\n",
        "    # Calculate standard deviation using numpy's std() function\n",
        "    std_value = np.std(array)\n",
        "    # Return both values as a tuple\n",
        "    return mean_value, std_value\n",
        "# Create a NumPy array\n",
        "data = np.array([10, 20, 30, 40, 50])\n",
        "# Call the function and print the result\n",
        "mean_val, std_val = mean_std(data)\n",
        "print(f\"Mean: {mean_val}, Standard Deviation: {std_val}\")\n",
        "# Example call from the image: mean_std of [10, 20, 30, 40, 50]\n",
        "print(f\"np.float64({mean_val}, {std_val})\")"
      ],
      "metadata": {
        "colab": {
          "base_uri": "https://localhost:8080/"
        },
        "id": "ViOVTmofc9-w",
        "outputId": "3f36912a-a463-47e2-cb59-d2b44d36a9a7"
      },
      "execution_count": 66,
      "outputs": [
        {
          "output_type": "stream",
          "name": "stdout",
          "text": [
            "Mean: 30.0, Standard Deviation: 14.142135623730951\n",
            "np.float64(30.0, 14.142135623730951)\n"
          ]
        }
      ]
    },
    {
      "cell_type": "markdown",
      "source": [
        "Q20. Write a function plot_workout(time, calories) that plots a line chart using Matplotlib with:\n",
        "\n",
        "● X-axis = time\n",
        "\n",
        "● Y-axis = calories\n",
        "\n",
        "● Title = \"Workout Efficiency Tracker\""
      ],
      "metadata": {
        "id": "qLGi13tcdiMj"
      }
    },
    {
      "cell_type": "code",
      "source": [
        "# Import the Matplotlib library for plotting\n",
        "import matplotlib.pyplot as plt\n",
        "\n",
        "# Define a function to plot workout efficiency\n",
        "def plot_workout(time, calories):\n",
        "    # Plot a line graph of calories vs. time\n",
        "    plt.plot(time, calories, marker='D', linestyle='--', color='green', label='Calories Burned')\n",
        "    # Add labels for X and Y axes\n",
        "    plt.xlabel(\"Time (Hours)\")\n",
        "    plt.ylabel(\"Calories Burned\")\n",
        "    # Add a title to the chart\n",
        "    plt.title(\"Workout Efficiency Tracker\")\n",
        "    # Add a legend for clarity\n",
        "    plt.legend()\n",
        "    # Add grid lines for better visualization\n",
        "    plt.grid(True)\n",
        "    # Display the plot\n",
        "    plt.show()\n",
        "# Example data\n",
        "time = [1, 2, 3, 4, 5]             # Hours or workout sessions\n",
        "calories = [300, 450, 500, 550, 600]  # Calories burned per session\n",
        "# Call the function to display the plot\n",
        "plot_workout(time, calories)"
      ],
      "metadata": {
        "colab": {
          "base_uri": "https://localhost:8080/",
          "height": 472
        },
        "id": "PVlL4nASdkvl",
        "outputId": "99bce80e-012a-4eda-d7b7-27e739c4a091"
      },
      "execution_count": 67,
      "outputs": [
        {
          "output_type": "display_data",
          "data": {
            "text/plain": [
              "<Figure size 640x480 with 1 Axes>"
            ],
            "image/png": "[encoded data removed]"
          },
          "metadata": {}
        }
      ]
    },
    {
      "cell_type": "markdown",
      "source": [
        "#Bonus Section (Q21 – Q25)"
      ],
      "metadata": {
        "id": "izpL5mk_eXUH"
      }
    },
    {
      "cell_type": "markdown",
      "source": [
        "Q21. Write a function to return top 5 calorie burners from your dataset (Final_data.csv)."
      ],
      "metadata": {
        "id": "BT-2tEC9eanA"
      }
    },
    {
      "cell_type": "code",
      "source": [
        "import pandas as pd\n",
        "import os\n",
        "def top_5_burners(file_path='Final_data.csv'):\n",
        "    \"\"\"Reads data, sorts by Calories_Burned, and returns the top 5 rows.\"\"\"\n",
        "    # Check if the file exists\n",
        "    if not os.path.exists(file_path):\n",
        "        return f\"Error: File '{file_path}' not found.\"\n",
        "    # Read the dataset\n",
        "    df = pd.read_csv(file_path)\n",
        "    # Check for the required column\n",
        "    if 'Calories_Burned' not in df.columns:\n",
        "        return \"Error: Column 'Calories_Burned' not found in the dataset.\"\n",
        "    # Sort the data in descending order of 'Calories_Burned'\n",
        "    df_sorted = df.sort_values(by='Calories_Burned', ascending=False)\n",
        "    # Select the top 5 rows\n",
        "    top_5 = df_sorted.head(5)\n",
        "    return top_5\n",
        "# Assuming 'Final_data.csv' exists in the current directory with the correct column:\n",
        "# top_burners_df = top_5_burners()\n",
        "# print(\"Top 5 Calorie Burners:\")\n",
        "# print(top_burners_df)\n",
        "print(top_5_burners())"
      ],
      "metadata": {
        "colab": {
          "base_uri": "https://localhost:8080/"
        },
        "id": "Pkm4kPd7eg-f",
        "outputId": "1013e7c6-0d56-4eec-879d-5a79ee2dd5a6"
      },
      "execution_count": 68,
      "outputs": [
        {
          "output_type": "stream",
          "name": "stdout",
          "text": [
            "        Age  Gender  Weight (kg)  Height (m)  Max_BPM  Avg_BPM  Resting_BPM  \\\n",
            "8753  47.41  Female        87.41        1.64   177.14   164.64        49.85   \n",
            "441   46.95    Male        87.21        1.64   177.59   164.65        50.05   \n",
            "2647  41.05  Female        62.00        1.79   180.92   161.97        73.02   \n",
            "4081  41.19    Male        62.33        1.79   180.96   161.85        72.92   \n",
            "8199  40.59    Male        62.10        1.79   181.07   162.12        73.07   \n",
            "\n",
            "      Session_Duration (hours)  Calories_Burned Workout_Type  ...  \\\n",
            "8753                      2.02          2890.82         HIIT  ...   \n",
            "441                       2.01          2876.51         HIIT  ...   \n",
            "2647                      2.00          2864.40         HIIT  ...   \n",
            "4081                      2.00          2862.20         HIIT  ...   \n",
            "8199                      2.00          2860.00         HIIT  ...   \n",
            "\n",
            "      cal_from_macros  pct_carbs  protein_per_kg   pct_HRR  pct_maxHR  \\\n",
            "8753          1851.64   0.499622        1.065324  0.901799   0.929434   \n",
            "441           1858.80   0.502604        1.062149  0.898542   0.927136   \n",
            "2647          1235.01   0.498555        0.995806  0.824374   0.895258   \n",
            "4081          1245.99   0.500421        1.001123  0.823121   0.894397   \n",
            "8199          1246.61   0.501360        1.003543  0.824537   0.895344   \n",
            "\n",
            "      cal_balance  lean_mass_kg  expected_burn  \\\n",
            "8753      -538.82     58.588563      1394.6484   \n",
            "441       -497.51     60.247135      1386.9804   \n",
            "2647      -965.40     47.612507      1390.3200   \n",
            "4081     -1057.20     49.156203      1392.5600   \n",
            "8199     -1087.00     49.444541      1390.1600   \n",
            "\n",
            "      Burns Calories (per 30 min)_bc  Burns_Calories_Bin  \n",
            "8753                    7.728420e+19              Medium  \n",
            "441                     7.693745e+19              Medium  \n",
            "2647                    8.172624e+19              Medium  \n",
            "4081                    8.280800e+19              Medium  \n",
            "8199                    8.164945e+19              Medium  \n",
            "\n",
            "[5 rows x 54 columns]\n"
          ]
        }
      ]
    },
    {
      "cell_type": "markdown",
      "source": [
        "Q22. Write a function to calculate and print average heart rate by gender."
      ],
      "metadata": {
        "id": "iSFfWf20fveO"
      }
    },
    {
      "cell_type": "code",
      "source": [
        "# Import pandas for data handling\n",
        "import pandas as pd\n",
        "# Function to calculate and print average heart rate by gender\n",
        "def average_heart_rate_by_gender():\n",
        "    # Read dataset\n",
        "    df = pd.read_csv('/content/Final_data.csv')  # Change path if needed\n",
        "    # Preview first few rows\n",
        "    print(\"Preview of data:\")\n",
        "    print(df.head(), \"\\n\")\n",
        "    # Check for required columns\n",
        "    required_columns = ['Gender', 'Avg_BPM']\n",
        "    for col in required_columns:\n",
        "        if col not in df.columns:\n",
        "            raise ValueError(f\"Column '{col}' not found in dataset.\")\n",
        "    # Calculate average heart rate grouped by gender\n",
        "    avg_hr = df.groupby('Gender')['Avg_BPM'].mean()\n",
        "    # Print results\n",
        "    print(\"Average Heart Rate (Avg_BPM) by Gender:\")\n",
        "    for gender, rate in avg_hr.items():\n",
        "        print(f\"{gender}: {rate:.2f} bpm\")\n",
        "# Run the function\n",
        "average_heart_rate_by_gender()"
      ],
      "metadata": {
        "id": "R2HSiOa-fz9L",
        "colab": {
          "base_uri": "https://localhost:8080/"
        },
        "outputId": "36309907-2b51-4cec-d46c-6ccaac2514fc"
      },
      "execution_count": 69,
      "outputs": [
        {
          "output_type": "stream",
          "name": "stdout",
          "text": [
            "Preview of data:\n",
            "     Age  Gender  Weight (kg)  Height (m)  Max_BPM  Avg_BPM  Resting_BPM  \\\n",
            "0  34.91    Male        65.27        1.62   188.58   157.65        69.05   \n",
            "1  23.37  Female        56.41        1.55   179.43   131.75        73.18   \n",
            "2  33.20  Female        58.98        1.67   175.04   123.95        54.96   \n",
            "3  38.69  Female        93.78        1.70   191.21   155.10        50.07   \n",
            "4  45.09    Male        52.42        1.88   193.58   152.88        70.84   \n",
            "\n",
            "   Session_Duration (hours)  Calories_Burned Workout_Type  ...  \\\n",
            "0                      1.00          1080.90     Strength  ...   \n",
            "1                      1.37          1809.91         HIIT  ...   \n",
            "2                      0.91           802.26       Cardio  ...   \n",
            "3                      1.10          1450.79         HIIT  ...   \n",
            "4                      1.08          1166.40     Strength  ...   \n",
            "\n",
            "   cal_from_macros  pct_carbs  protein_per_kg   pct_HRR  pct_maxHR  \\\n",
            "0          2139.59   0.500432        1.624789  0.741237   0.835985   \n",
            "1          1711.65   0.500850        1.514093  0.551247   0.734270   \n",
            "2          1965.92   0.500610        1.663445  0.574534   0.708124   \n",
            "3          1627.28   0.499533        0.862017  0.744155   0.811150   \n",
            "4          2659.23   0.500581        2.538153  0.668405   0.789751   \n",
            "\n",
            "   cal_balance  lean_mass_kg  expected_burn  Burns Calories (per 30 min)_bc  \\\n",
            "0       725.10     47.777394       685.1600                    7.260425e+19   \n",
            "1      -232.91     40.809803       978.6184                    1.020506e+20   \n",
            "2       805.74     44.635580       654.5266                    1.079607e+20   \n",
            "3      1206.21     63.007432       773.6300                    8.987921e+19   \n",
            "4       303.60     43.347504       711.4176                    5.264685e+19   \n",
            "\n",
            "   Burns_Calories_Bin  \n",
            "0              Medium  \n",
            "1                High  \n",
            "2                High  \n",
            "3                High  \n",
            "4                 Low  \n",
            "\n",
            "[5 rows x 54 columns] \n",
            "\n",
            "Average Heart Rate (Avg_BPM) by Gender:\n",
            "Female: 143.68 bpm\n",
            "Male: 143.73 bpm\n"
          ]
        }
      ]
    },
    {
      "cell_type": "markdown",
      "source": [
        "Q23. Write a function to visualize Calories_Burned vs Session_Duration for each Workout_Type using\n",
        "Matplotlib."
      ],
      "metadata": {
        "id": "SoQ9Z1sShJEx"
      }
    },
    {
      "cell_type": "code",
      "source": [
        "import pandas as pd, seaborn as sns, matplotlib.pyplot as plt, os\n",
        "def visualize_calories_vs_duration(file_path='/content/Final_data.csv'):\n",
        "    if not os.path.exists(file_path):\n",
        "        print(\"File not found\"); return\n",
        "    df = pd.read_csv(file_path)\n",
        "    df.columns = [c.lower().replace(' ', '_') for c in df.columns]\n",
        "    cal = [c for c in df.columns if 'calorie' in c][0]\n",
        "    dur = [c for c in df.columns if 'duration' in c][0]\n",
        "    work = [c for c in df.columns if 'workout' in c][0]\n",
        "    sns.scatterplot(data=df, x=dur, y=cal, hue=work, style=work, s=80, edgecolor='black', palette='Set2')\n",
        "    plt.title(\"Calories vs Duration by Workout Type\")\n",
        "    plt.xlabel(\"Session Duration\"); plt.ylabel(\"Calories Burned\")\n",
        "    plt.grid(True, alpha=0.3); plt.tight_layout(); plt.show()\n",
        "\n",
        "visualize_calories_vs_duration()\n"
      ],
      "metadata": {
        "colab": {
          "base_uri": "https://localhost:8080/",
          "height": 487
        },
        "id": "gvmRH3CBPjif",
        "outputId": "09a129e8-a1b3-4efd-e9be-d6ad6abad0b6"
      },
      "execution_count": 70,
      "outputs": [
        {
          "output_type": "display_data",
          "data": {
            "text/plain": [
              "<Figure size 640x480 with 1 Axes>"
            ],
            "image/png": "[encoded data removed]"
          },
          "metadata": {}
        }
      ]
    },
    {
      "cell_type": "markdown",
      "source": [
        "Q24. Write a function to compute correlation between any two numeric columns (column names taken\n",
        "from user input)."
      ],
      "metadata": {
        "id": "aTJJUrhVh0pc"
      }
    },
    {
      "cell_type": "code",
      "source": [
        "import pandas as pd, os\n",
        "\n",
        "def corr_cols(path='/content/Final_data.csv'):\n",
        "    if not os.path.exists(path): return print(\"File not found\")\n",
        "    df = pd.read_csv(path)\n",
        "    num = df.select_dtypes('number').columns\n",
        "    print(\"Numeric cols:\", list(num))\n",
        "    c1, c2 = input(\"Col1: \"), input(\"Col2: \")\n",
        "    if c1 not in num or c2 not in num: return print(\"Invalid cols\")\n",
        "    print(f\"Corr({c1},{c2}) = {df[c1].corr(df[c2]):.4f}\")\n",
        "\n",
        "corr_cols()\n"
      ],
      "metadata": {
        "colab": {
          "base_uri": "https://localhost:8080/"
        },
        "id": "mk0-sYs9PIWm",
        "outputId": "2f7eda12-4cbb-4bc8-9433-e9a36ad5d432"
      },
      "execution_count": 71,
      "outputs": [
        {
          "output_type": "stream",
          "name": "stdout",
          "text": [
            "📊 Numeric cols: ['Age', 'Weight (kg)', 'Height (m)', 'Max_BPM', 'Avg_BPM', 'Resting_BPM', 'Session_Duration (hours)', 'Calories_Burned', 'Fat_Percentage', 'Water_Intake (liters)', 'Workout_Frequency (days/week)', 'Experience_Level', 'BMI', 'Daily meals frequency', 'Physical exercise', 'Carbs', 'Proteins', 'Fats', 'Calories', 'sugar_g', 'sodium_mg', 'cholesterol_mg', 'serving_size_g', 'prep_time_min', 'cook_time_min', 'rating', 'Sets', 'Reps', 'Burns Calories (per 30 min)', 'BMI_calc', 'cal_from_macros', 'pct_carbs', 'protein_per_kg', 'pct_HRR', 'pct_maxHR', 'cal_balance', 'lean_mass_kg', 'expected_burn', 'Burns Calories (per 30 min)_bc']\n",
            "Col1: Avg_BPM\n",
            "Col2: Calories_Burned\n",
            "✅ Corr(Avg_BPM,Calories_Burned) = 0.0080\n"
          ]
        }
      ]
    },
    {
      "cell_type": "markdown",
      "source": [
        "Q25. Write a function that creates and saves any Matplotlib plot as a PNG file automatically."
      ],
      "metadata": {
        "id": "gz6XgoX4h4Sv"
      }
    },
    {
      "cell_type": "code",
      "source": [
        "import matplotlib.pyplot as plt\n",
        "def save_plot_as_png_automatically():\n",
        "    # Sample data\n",
        "    time = [1, 2, 3, 4, 5, 6]  # X-axis: time in hours\n",
        "    calories = [100, 150, 210, 240, 320, 360]  # Y-axis: calories burned\n",
        "    # Create the plot\n",
        "    plt.figure(figsize=(8, 5))\n",
        "    plt.plot(time, calories, marker='o', linestyle=':', color='purple', label='Calories Burned vs Time')\n",
        "    # Add labels, title, and legend\n",
        "    plt.xlabel(\"Workout Time (hours)\")\n",
        "    plt.ylabel(\"Calories Burned\")\n",
        "    plt.title(\"Workout Progress Tracker\")\n",
        "    plt.legend()\n",
        "    plt.grid(True)\n",
        "    # Save the plot as a PNG file\n",
        "    plt.savefig(\"Workout_graph.png\", dpi=300)  # High-resolution save\n",
        "    plt.show()\n",
        "    # Confirmation message\n",
        "    print(\"✅ Plot saved successfully as 'Workout_graph.png'\")\n",
        "# Call the function\n",
        "save_plot_as_png_automatically()"
      ],
      "metadata": {
        "colab": {
          "base_uri": "https://localhost:8080/",
          "height": 504
        },
        "id": "7-nHVeWxiZe4",
        "outputId": "617f245f-52a5-46ab-97fc-5c9fadf59ddf"
      },
      "execution_count": 72,
      "outputs": [
        {
          "output_type": "display_data",
          "data": {
            "text/plain": [
              "<Figure size 800x500 with 1 Axes>"
            ],
            "image/png": "[encoded data removed]"
          },
          "metadata": {}
        },
        {
          "output_type": "stream",
          "name": "stdout",
          "text": [
            "✅ Plot saved successfully as 'Workout_graph.png'\n"
          ]
        }
      ]
    }
  ]
}