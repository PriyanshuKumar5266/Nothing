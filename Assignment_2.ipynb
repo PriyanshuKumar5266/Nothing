{
  "nbformat": 4,
  "nbformat_minor": 0,
  "metadata": {
    "colab": {
      "provenance": [],
      "authorship_tag": "ABX9TyMRsRCfJYckMSILEp15GQXY",
      "include_colab_link": true
    },
    "kernelspec": {
      "name": "python3",
      "display_name": "Python 3"
    },
    "language_info": {
      "name": "python"
    }
  },
  "cells": [
    {
      "cell_type": "markdown",
      "metadata": {
        "id": "view-in-github",
        "colab_type": "text"
      },
      "source": [
        "<a href=\"https://colab.research.google.com/github/PriyanshuKumar5266/Nothing/blob/main/Assignment_2.ipynb\" target=\"_parent\"><img src=\"https://colab.research.google.com/assets/colab-badge.svg\" alt=\"Open In Colab\"/></a>"
      ]
    },
    {
      "cell_type": "markdown",
      "source": [
        "Name : Priyanshu Kumar\n",
        "\n",
        "Rg. No. : 2024UG1042\n",
        "\n",
        "Section : A\n",
        "\n",
        "Topic : Functions with NumPy & Metaplotib"
      ],
      "metadata": {
        "id": "h8EMcH41irqR"
      }
    },
    {
      "cell_type": "markdown",
      "source": [
        "#import"
      ],
      "metadata": {
        "id": "1TkSST7IBMMq"
      }
    },
    {
      "cell_type": "code",
      "source": [
        " #@title 📚Imports\n",
        " import numpy as np\n",
        " import pandas as pd\n",
        " import matplotlib.pyplot as plt\n",
        " # Matplotlib settings\n",
        " plt.rcParams['figure.figsize'] = (6, 4)\n",
        " plt.rcParams['figure.dpi'] = 120"
      ],
      "metadata": {
        "id": "FC9eSrGLBOCB"
      },
      "execution_count": 6,
      "outputs": []
    },
    {
      "cell_type": "markdown",
      "source": [
        "#Load the dataset\n",
        "\n"
      ],
      "metadata": {
        "id": "vm6jnmgcCW1e"
      }
    },
    {
      "cell_type": "code",
      "source": [
        " #@title Load the dataset\n",
        " CSV_PATH = 'Final_data.csv'\n",
        " df = pd.read_csv(CSV_PATH)\n",
        " df.head()"
      ],
      "metadata": {
        "colab": {
          "base_uri": "https://localhost:8080/",
          "height": 307
        },
        "id": "lIoh9MxvCQnW",
        "outputId": "3a7ba442-b9e4-417c-fa15-6c66d155179f"
      },
      "execution_count": 7,
      "outputs": [
        {
          "output_type": "execute_result",
          "data": {
            "text/plain": [
              "     Age  Gender  Weight (kg)  Height (m)  Max_BPM  Avg_BPM  Resting_BPM  \\\n",
              "0  34.91    Male        65.27        1.62   188.58   157.65        69.05   \n",
              "1  23.37  Female        56.41        1.55   179.43   131.75        73.18   \n",
              "2  33.20  Female        58.98        1.67   175.04   123.95        54.96   \n",
              "3  38.69  Female        93.78        1.70   191.21   155.10        50.07   \n",
              "4  45.09    Male        52.42        1.88   193.58   152.88        70.84   \n",
              "\n",
              "   Session_Duration (hours)  Calories_Burned Workout_Type  ...  \\\n",
              "0                      1.00          1080.90     Strength  ...   \n",
              "1                      1.37          1809.91         HIIT  ...   \n",
              "2                      0.91           802.26       Cardio  ...   \n",
              "3                      1.10          1450.79         HIIT  ...   \n",
              "4                      1.08          1166.40     Strength  ...   \n",
              "\n",
              "   cal_from_macros  pct_carbs  protein_per_kg   pct_HRR  pct_maxHR  \\\n",
              "0          2139.59   0.500432        1.624789  0.741237   0.835985   \n",
              "1          1711.65   0.500850        1.514093  0.551247   0.734270   \n",
              "2          1965.92   0.500610        1.663445  0.574534   0.708124   \n",
              "3          1627.28   0.499533        0.862017  0.744155   0.811150   \n",
              "4          2659.23   0.500581        2.538153  0.668405   0.789751   \n",
              "\n",
              "   cal_balance  lean_mass_kg  expected_burn  Burns Calories (per 30 min)_bc  \\\n",
              "0       725.10     47.777394       685.1600                    7.260425e+19   \n",
              "1      -232.91     40.809803       978.6184                    1.020506e+20   \n",
              "2       805.74     44.635580       654.5266                    1.079607e+20   \n",
              "3      1206.21     63.007432       773.6300                    8.987921e+19   \n",
              "4       303.60     43.347504       711.4176                    5.264685e+19   \n",
              "\n",
              "   Burns_Calories_Bin  \n",
              "0              Medium  \n",
              "1                High  \n",
              "2                High  \n",
              "3                High  \n",
              "4                 Low  \n",
              "\n",
              "[5 rows x 54 columns]"
            ],
            "text/html": [
              "\n",
              "  <div id=\"df-aae2f13e-050c-4793-951d-f66cddd7fa05\" class=\"colab-df-container\">\n",
              "    <div>\n",
              "<style scoped>\n",
              "    .dataframe tbody tr th:only-of-type {\n",
              "        vertical-align: middle;\n",
              "    }\n",
              "\n",
              "    .dataframe tbody tr th {\n",
              "        vertical-align: top;\n",
              "    }\n",
              "\n",
              "    .dataframe thead th {\n",
              "        text-align: right;\n",
              "    }\n",
              "</style>\n",
              "<table border=\"1\" class=\"dataframe\">\n",
              "  <thead>\n",
              "    <tr style=\"text-align: right;\">\n",
              "      <th></th>\n",
              "      <th>Age</th>\n",
              "      <th>Gender</th>\n",
              "      <th>Weight (kg)</th>\n",
              "      <th>Height (m)</th>\n",
              "      <th>Max_BPM</th>\n",
              "      <th>Avg_BPM</th>\n",
              "      <th>Resting_BPM</th>\n",
              "      <th>Session_Duration (hours)</th>\n",
              "      <th>Calories_Burned</th>\n",
              "      <th>Workout_Type</th>\n",
              "      <th>...</th>\n",
              "      <th>cal_from_macros</th>\n",
              "      <th>pct_carbs</th>\n",
              "      <th>protein_per_kg</th>\n",
              "      <th>pct_HRR</th>\n",
              "      <th>pct_maxHR</th>\n",
              "      <th>cal_balance</th>\n",
              "      <th>lean_mass_kg</th>\n",
              "      <th>expected_burn</th>\n",
              "      <th>Burns Calories (per 30 min)_bc</th>\n",
              "      <th>Burns_Calories_Bin</th>\n",
              "    </tr>\n",
              "  </thead>\n",
              "  <tbody>\n",
              "    <tr>\n",
              "      <th>0</th>\n",
              "      <td>34.91</td>\n",
              "      <td>Male</td>\n",
              "      <td>65.27</td>\n",
              "      <td>1.62</td>\n",
              "      <td>188.58</td>\n",
              "      <td>157.65</td>\n",
              "      <td>69.05</td>\n",
              "      <td>1.00</td>\n",
              "      <td>1080.90</td>\n",
              "      <td>Strength</td>\n",
              "      <td>...</td>\n",
              "      <td>2139.59</td>\n",
              "      <td>0.500432</td>\n",
              "      <td>1.624789</td>\n",
              "      <td>0.741237</td>\n",
              "      <td>0.835985</td>\n",
              "      <td>725.10</td>\n",
              "      <td>47.777394</td>\n",
              "      <td>685.1600</td>\n",
              "      <td>7.260425e+19</td>\n",
              "      <td>Medium</td>\n",
              "    </tr>\n",
              "    <tr>\n",
              "      <th>1</th>\n",
              "      <td>23.37</td>\n",
              "      <td>Female</td>\n",
              "      <td>56.41</td>\n",
              "      <td>1.55</td>\n",
              "      <td>179.43</td>\n",
              "      <td>131.75</td>\n",
              "      <td>73.18</td>\n",
              "      <td>1.37</td>\n",
              "      <td>1809.91</td>\n",
              "      <td>HIIT</td>\n",
              "      <td>...</td>\n",
              "      <td>1711.65</td>\n",
              "      <td>0.500850</td>\n",
              "      <td>1.514093</td>\n",
              "      <td>0.551247</td>\n",
              "      <td>0.734270</td>\n",
              "      <td>-232.91</td>\n",
              "      <td>40.809803</td>\n",
              "      <td>978.6184</td>\n",
              "      <td>1.020506e+20</td>\n",
              "      <td>High</td>\n",
              "    </tr>\n",
              "    <tr>\n",
              "      <th>2</th>\n",
              "      <td>33.20</td>\n",
              "      <td>Female</td>\n",
              "      <td>58.98</td>\n",
              "      <td>1.67</td>\n",
              "      <td>175.04</td>\n",
              "      <td>123.95</td>\n",
              "      <td>54.96</td>\n",
              "      <td>0.91</td>\n",
              "      <td>802.26</td>\n",
              "      <td>Cardio</td>\n",
              "      <td>...</td>\n",
              "      <td>1965.92</td>\n",
              "      <td>0.500610</td>\n",
              "      <td>1.663445</td>\n",
              "      <td>0.574534</td>\n",
              "      <td>0.708124</td>\n",
              "      <td>805.74</td>\n",
              "      <td>44.635580</td>\n",
              "      <td>654.5266</td>\n",
              "      <td>1.079607e+20</td>\n",
              "      <td>High</td>\n",
              "    </tr>\n",
              "    <tr>\n",
              "      <th>3</th>\n",
              "      <td>38.69</td>\n",
              "      <td>Female</td>\n",
              "      <td>93.78</td>\n",
              "      <td>1.70</td>\n",
              "      <td>191.21</td>\n",
              "      <td>155.10</td>\n",
              "      <td>50.07</td>\n",
              "      <td>1.10</td>\n",
              "      <td>1450.79</td>\n",
              "      <td>HIIT</td>\n",
              "      <td>...</td>\n",
              "      <td>1627.28</td>\n",
              "      <td>0.499533</td>\n",
              "      <td>0.862017</td>\n",
              "      <td>0.744155</td>\n",
              "      <td>0.811150</td>\n",
              "      <td>1206.21</td>\n",
              "      <td>63.007432</td>\n",
              "      <td>773.6300</td>\n",
              "      <td>8.987921e+19</td>\n",
              "      <td>High</td>\n",
              "    </tr>\n",
              "    <tr>\n",
              "      <th>4</th>\n",
              "      <td>45.09</td>\n",
              "      <td>Male</td>\n",
              "      <td>52.42</td>\n",
              "      <td>1.88</td>\n",
              "      <td>193.58</td>\n",
              "      <td>152.88</td>\n",
              "      <td>70.84</td>\n",
              "      <td>1.08</td>\n",
              "      <td>1166.40</td>\n",
              "      <td>Strength</td>\n",
              "      <td>...</td>\n",
              "      <td>2659.23</td>\n",
              "      <td>0.500581</td>\n",
              "      <td>2.538153</td>\n",
              "      <td>0.668405</td>\n",
              "      <td>0.789751</td>\n",
              "      <td>303.60</td>\n",
              "      <td>43.347504</td>\n",
              "      <td>711.4176</td>\n",
              "      <td>5.264685e+19</td>\n",
              "      <td>Low</td>\n",
              "    </tr>\n",
              "  </tbody>\n",
              "</table>\n",
              "<p>5 rows × 54 columns</p>\n",
              "</div>\n",
              "    <div class=\"colab-df-buttons\">\n",
              "\n",
              "  <div class=\"colab-df-container\">\n",
              "    <button class=\"colab-df-convert\" onclick=\"convertToInteractive('df-aae2f13e-050c-4793-951d-f66cddd7fa05')\"\n",
              "            title=\"Convert this dataframe to an interactive table.\"\n",
              "            style=\"display:none;\">\n",
              "\n",
              "  <svg xmlns=\"http://www.w3.org/2000/svg\" height=\"24px\" viewBox=\"0 -960 960 960\">\n",
              "    <path d=\"M120-120v-720h720v720H120Zm60-500h600v-160H180v160Zm220 220h160v-160H400v160Zm0 220h160v-160H400v160ZM180-400h160v-160H180v160Zm440 0h160v-160H620v160ZM180-180h160v-160H180v160Zm440 0h160v-160H620v160Z\"/>\n",
              "  </svg>\n",
              "    </button>\n",
              "\n",
              "  <style>\n",
              "    .colab-df-container {\n",
              "      display:flex;\n",
              "      gap: 12px;\n",
              "    }\n",
              "\n",
              "    .colab-df-convert {\n",
              "      background-color: #E8F0FE;\n",
              "      border: none;\n",
              "      border-radius: 50%;\n",
              "      cursor: pointer;\n",
              "      display: none;\n",
              "      fill: #1967D2;\n",
              "      height: 32px;\n",
              "      padding: 0 0 0 0;\n",
              "      width: 32px;\n",
              "    }\n",
              "\n",
              "    .colab-df-convert:hover {\n",
              "      background-color: #E2EBFA;\n",
              "      box-shadow: 0px 1px 2px rgba(60, 64, 67, 0.3), 0px 1px 3px 1px rgba(60, 64, 67, 0.15);\n",
              "      fill: #174EA6;\n",
              "    }\n",
              "\n",
              "    .colab-df-buttons div {\n",
              "      margin-bottom: 4px;\n",
              "    }\n",
              "\n",
              "    [theme=dark] .colab-df-convert {\n",
              "      background-color: #3B4455;\n",
              "      fill: #D2E3FC;\n",
              "    }\n",
              "\n",
              "    [theme=dark] .colab-df-convert:hover {\n",
              "      background-color: #434B5C;\n",
              "      box-shadow: 0px 1px 3px 1px rgba(0, 0, 0, 0.15);\n",
              "      filter: drop-shadow(0px 1px 2px rgba(0, 0, 0, 0.3));\n",
              "      fill: #FFFFFF;\n",
              "    }\n",
              "  </style>\n",
              "\n",
              "    <script>\n",
              "      const buttonEl =\n",
              "        document.querySelector('#df-aae2f13e-050c-4793-951d-f66cddd7fa05 button.colab-df-convert');\n",
              "      buttonEl.style.display =\n",
              "        google.colab.kernel.accessAllowed ? 'block' : 'none';\n",
              "\n",
              "      async function convertToInteractive(key) {\n",
              "        const element = document.querySelector('#df-aae2f13e-050c-4793-951d-f66cddd7fa05');\n",
              "        const dataTable =\n",
              "          await google.colab.kernel.invokeFunction('convertToInteractive',\n",
              "                                                    [key], {});\n",
              "        if (!dataTable) return;\n",
              "\n",
              "        const docLinkHtml = 'Like what you see? Visit the ' +\n",
              "          '<a target=\"_blank\" href=https://colab.research.google.com/notebooks/data_table.ipynb>data table notebook</a>'\n",
              "          + ' to learn more about interactive tables.';\n",
              "        element.innerHTML = '';\n",
              "        dataTable['output_type'] = 'display_data';\n",
              "        await google.colab.output.renderOutput(dataTable, element);\n",
              "        const docLink = document.createElement('div');\n",
              "        docLink.innerHTML = docLinkHtml;\n",
              "        element.appendChild(docLink);\n",
              "      }\n",
              "    </script>\n",
              "  </div>\n",
              "\n",
              "\n",
              "    <div id=\"df-c87b670d-916f-48dc-9168-1263d8b9fb60\">\n",
              "      <button class=\"colab-df-quickchart\" onclick=\"quickchart('df-c87b670d-916f-48dc-9168-1263d8b9fb60')\"\n",
              "                title=\"Suggest charts\"\n",
              "                style=\"display:none;\">\n",
              "\n",
              "<svg xmlns=\"http://www.w3.org/2000/svg\" height=\"24px\"viewBox=\"0 0 24 24\"\n",
              "     width=\"24px\">\n",
              "    <g>\n",
              "        <path d=\"M19 3H5c-1.1 0-2 .9-2 2v14c0 1.1.9 2 2 2h14c1.1 0 2-.9 2-2V5c0-1.1-.9-2-2-2zM9 17H7v-7h2v7zm4 0h-2V7h2v10zm4 0h-2v-4h2v4z\"/>\n",
              "    </g>\n",
              "</svg>\n",
              "      </button>\n",
              "\n",
              "<style>\n",
              "  .colab-df-quickchart {\n",
              "      --bg-color: #E8F0FE;\n",
              "      --fill-color: #1967D2;\n",
              "      --hover-bg-color: #E2EBFA;\n",
              "      --hover-fill-color: #174EA6;\n",
              "      --disabled-fill-color: #AAA;\n",
              "      --disabled-bg-color: #DDD;\n",
              "  }\n",
              "\n",
              "  [theme=dark] .colab-df-quickchart {\n",
              "      --bg-color: #3B4455;\n",
              "      --fill-color: #D2E3FC;\n",
              "      --hover-bg-color: #434B5C;\n",
              "      --hover-fill-color: #FFFFFF;\n",
              "      --disabled-bg-color: #3B4455;\n",
              "      --disabled-fill-color: #666;\n",
              "  }\n",
              "\n",
              "  .colab-df-quickchart {\n",
              "    background-color: var(--bg-color);\n",
              "    border: none;\n",
              "    border-radius: 50%;\n",
              "    cursor: pointer;\n",
              "    display: none;\n",
              "    fill: var(--fill-color);\n",
              "    height: 32px;\n",
              "    padding: 0;\n",
              "    width: 32px;\n",
              "  }\n",
              "\n",
              "  .colab-df-quickchart:hover {\n",
              "    background-color: var(--hover-bg-color);\n",
              "    box-shadow: 0 1px 2px rgba(60, 64, 67, 0.3), 0 1px 3px 1px rgba(60, 64, 67, 0.15);\n",
              "    fill: var(--button-hover-fill-color);\n",
              "  }\n",
              "\n",
              "  .colab-df-quickchart-complete:disabled,\n",
              "  .colab-df-quickchart-complete:disabled:hover {\n",
              "    background-color: var(--disabled-bg-color);\n",
              "    fill: var(--disabled-fill-color);\n",
              "    box-shadow: none;\n",
              "  }\n",
              "\n",
              "  .colab-df-spinner {\n",
              "    border: 2px solid var(--fill-color);\n",
              "    border-color: transparent;\n",
              "    border-bottom-color: var(--fill-color);\n",
              "    animation:\n",
              "      spin 1s steps(1) infinite;\n",
              "  }\n",
              "\n",
              "  @keyframes spin {\n",
              "    0% {\n",
              "      border-color: transparent;\n",
              "      border-bottom-color: var(--fill-color);\n",
              "      border-left-color: var(--fill-color);\n",
              "    }\n",
              "    20% {\n",
              "      border-color: transparent;\n",
              "      border-left-color: var(--fill-color);\n",
              "      border-top-color: var(--fill-color);\n",
              "    }\n",
              "    30% {\n",
              "      border-color: transparent;\n",
              "      border-left-color: var(--fill-color);\n",
              "      border-top-color: var(--fill-color);\n",
              "      border-right-color: var(--fill-color);\n",
              "    }\n",
              "    40% {\n",
              "      border-color: transparent;\n",
              "      border-right-color: var(--fill-color);\n",
              "      border-top-color: var(--fill-color);\n",
              "    }\n",
              "    60% {\n",
              "      border-color: transparent;\n",
              "      border-right-color: var(--fill-color);\n",
              "    }\n",
              "    80% {\n",
              "      border-color: transparent;\n",
              "      border-right-color: var(--fill-color);\n",
              "      border-bottom-color: var(--fill-color);\n",
              "    }\n",
              "    90% {\n",
              "      border-color: transparent;\n",
              "      border-bottom-color: var(--fill-color);\n",
              "    }\n",
              "  }\n",
              "</style>\n",
              "\n",
              "      <script>\n",
              "        async function quickchart(key) {\n",
              "          const quickchartButtonEl =\n",
              "            document.querySelector('#' + key + ' button');\n",
              "          quickchartButtonEl.disabled = true;  // To prevent multiple clicks.\n",
              "          quickchartButtonEl.classList.add('colab-df-spinner');\n",
              "          try {\n",
              "            const charts = await google.colab.kernel.invokeFunction(\n",
              "                'suggestCharts', [key], {});\n",
              "          } catch (error) {\n",
              "            console.error('Error during call to suggestCharts:', error);\n",
              "          }\n",
              "          quickchartButtonEl.classList.remove('colab-df-spinner');\n",
              "          quickchartButtonEl.classList.add('colab-df-quickchart-complete');\n",
              "        }\n",
              "        (() => {\n",
              "          let quickchartButtonEl =\n",
              "            document.querySelector('#df-c87b670d-916f-48dc-9168-1263d8b9fb60 button');\n",
              "          quickchartButtonEl.style.display =\n",
              "            google.colab.kernel.accessAllowed ? 'block' : 'none';\n",
              "        })();\n",
              "      </script>\n",
              "    </div>\n",
              "\n",
              "    </div>\n",
              "  </div>\n"
            ],
            "application/vnd.google.colaboratory.intrinsic+json": {
              "type": "dataframe",
              "variable_name": "df"
            }
          },
          "metadata": {},
          "execution_count": 7
        }
      ]
    },
    {
      "cell_type": "markdown",
      "source": [
        "#Part A: Basic Functions (Q1 – Q6)"
      ],
      "metadata": {
        "id": "f7mSn4CZkNE2"
      }
    },
    {
      "cell_type": "markdown",
      "source": [
        "Q1. Write a function welcome() that prints:\n",
        "\"Welcome to Python Fitness Tracker\n",
        "🏃‍♂️\n",
        " \" Call the function 3 times."
      ],
      "metadata": {
        "id": "xQ70DYbeWJfh"
      }
    },
    {
      "cell_type": "code",
      "source": [
        "# define function\n",
        "def welcome():\n",
        "    \"\"\"Prints a welcome message.\"\"\"\n",
        "    print(\"Welcome to Python Fitness Tracker 🏃‍♂️\")\n",
        "# Calling function 3 times\n",
        "welcome()\n",
        "welcome()\n",
        "welcome()"
      ],
      "metadata": {
        "colab": {
          "base_uri": "https://localhost:8080/"
        },
        "id": "XHSEWhLLVyeE",
        "outputId": "b4b68617-f26c-43d3-b7d4-7f1bc4a5e0a5"
      },
      "execution_count": null,
      "outputs": [
        {
          "output_type": "stream",
          "name": "stdout",
          "text": [
            "Welcome to Python Fitness Tracker 🏃‍♂️\n",
            "Welcome to Python Fitness Tracker 🏃‍♂️\n",
            "Welcome to Python Fitness Tracker 🏃‍♂️\n"
          ]
        }
      ]
    },
    {
      "cell_type": "markdown",
      "source": [
        "Q2. Write a function bmi(weight, height) that returns the Body Mass Index (BMI).\n",
        "\n",
        "Formula: BMI = weight / height**2\n",
        "Example: print(bmi(68, 1.75))\n"
      ],
      "metadata": {
        "id": "bs7_xxxQWgrJ"
      }
    },
    {
      "cell_type": "code",
      "source": [
        "def bmi(weight, height):\n",
        "    \"\"\"Calculates BMI (weight / height**2).\"\"\"\n",
        "    result = weight / (height ** 2)\n",
        "    print(f\"BMI({weight} kg, {height} m) = {result}\")\n",
        "    return result\n",
        "# Example call\n",
        "bmi(68, 1.75)"
      ],
      "metadata": {
        "colab": {
          "base_uri": "https://localhost:8080/"
        },
        "id": "mkTNpBY0WzQV",
        "outputId": "4a961fd1-2ea1-4770-f07a-2a813f5ebbcc"
      },
      "execution_count": null,
      "outputs": [
        {
          "output_type": "stream",
          "name": "stdout",
          "text": [
            "BMI(68 kg, 1.75 m) = 22.20408163265306\n"
          ]
        },
        {
          "output_type": "execute_result",
          "data": {
            "text/plain": [
              "22.20408163265306"
            ]
          },
          "metadata": {},
          "execution_count": 49
        }
      ]
    },
    {
      "cell_type": "markdown",
      "source": [
        "Q3. Write a function calories_burned(duration, rate=10) that returns total calories as duration * rate.\n",
        "\n",
        "Call the function once with one argument and once with both arguments."
      ],
      "metadata": {
        "id": "cDRsjDMLXJun"
      }
    },
    {
      "cell_type": "code",
      "source": [
        "def calories_burned(duration, rate=10):\n",
        "    \"\"\"Calculates total calories burned (duration * rate).\"\"\"\n",
        "    total = duration * rate\n",
        "    return total\n",
        "# Call with only one argument (uses default rate=10)\n",
        "print(f\"30 minutes workout: {calories_burned(30)} calories\")\n",
        "# Call with both arguments\n",
        "print(f\"45 minutes workout: {calories_burned(45, 12)} calories\")"
      ],
      "metadata": {
        "colab": {
          "base_uri": "https://localhost:8080/"
        },
        "id": "4ODBopdcXRNw",
        "outputId": "1336617d-df20-40f7-817d-efddec67465e"
      },
      "execution_count": null,
      "outputs": [
        {
          "output_type": "stream",
          "name": "stdout",
          "text": [
            "30 minutes workout: 300 calories\n",
            "45 minutes workout: 540 calories\n"
          ]
        }
      ]
    },
    {
      "cell_type": "markdown",
      "source": [
        "Q4. Create a function heart_rate_stats(max_bpm, avg_bpm, resting_bpm) that returns:\n",
        "\n",
        "● Heart Rate Reserve = max_bpm - resting_bpm\n",
        "\n",
        "● Average Difference = avg_bpm - resting_bpm\n",
        "\n",
        "Print both returned values separately."
      ],
      "metadata": {
        "id": "4KayU6_XXesl"
      }
    },
    {
      "cell_type": "code",
      "source": [
        "def heart_rate_stats(max_bpm, avg_bpm, resting_bpm):\n",
        "    \"\"\"\n",
        "    Returns Heart Rate Reserve and Average Difference.\n",
        "    HRR = max_bpm - resting_bpm\n",
        "    Avg Difference = avg_bpm - resting_bpm\n",
        "    \"\"\"\n",
        "    heart_rate_reserve = max_bpm - resting_bpm\n",
        "    avg_difference = avg_bpm - resting_bpm\n",
        "    return heart_rate_reserve, avg_difference\n",
        "# Call the function and store the returned values\n",
        "hr_reserve, avg_diff = heart_rate_stats(190, 120, 60)\n",
        "# Print the results\n",
        "print(f\"Heart Rate Reserve: {hr_reserve} ({190} - {60} = {hr_reserve})\")\n",
        "print(f\"Average Difference: {avg_diff} ({120} - {60} = {avg_diff})\")"
      ],
      "metadata": {
        "colab": {
          "base_uri": "https://localhost:8080/"
        },
        "id": "IKMKnw4BWleY",
        "outputId": "ab5d9f90-fa4a-43ef-b6d7-ff4d8c98e264"
      },
      "execution_count": null,
      "outputs": [
        {
          "output_type": "stream",
          "name": "stdout",
          "text": [
            "Heart Rate Reserve: 130 (190 - 60 = 130)\n",
            "Average Difference: 60 (120 - 60 = 60)\n"
          ]
        }
      ]
    },
    {
      "cell_type": "markdown",
      "source": [
        "Q5. Write a function workout_summary(name, duration, type='Cardio', calories=500) that prints:\n",
        "\"Amit completed 1.2 hours of Cardio and burned 500 calories.\" Call it using keyword arguments in\n",
        "random order."
      ],
      "metadata": {
        "id": "yZjgfSHsX1SB"
      }
    },
    {
      "cell_type": "code",
      "source": [
        "def workout_summary(name, duration, type='Cardio', calories=500):\n",
        "    \"\"\"Prints a workout summary using keyword arguments.\"\"\"\n",
        "    print(f\"{name} completed {duration} hours of {type} and burned {calories} calories.\")\n",
        "# Call it using keyword arguments in random order.\n",
        "workout_summary(calories=500, duration=1.2, name=\"Amit\", type=\"Cardio\")"
      ],
      "metadata": {
        "colab": {
          "base_uri": "https://localhost:8080/"
        },
        "id": "c9TqbQEGX8Qt",
        "outputId": "56f3c8ed-6095-4a3b-8096-ba910d97c1ed"
      },
      "execution_count": null,
      "outputs": [
        {
          "output_type": "stream",
          "name": "stdout",
          "text": [
            "Amit completed 1.2 hours of Cardio and burned 500 calories.\n"
          ]
        }
      ]
    },
    {
      "cell_type": "markdown",
      "source": [
        "Q6. Create two functions:\n",
        "\n",
        "● add_calories(c1, c2) that returns sum of calories.\n",
        "\n",
        "● weekly_burn() that calls add_calories() 7 times for each day’s burn.\n",
        "\n",
        "Print total burn."
      ],
      "metadata": {
        "id": "OJBaJe4VYHeo"
      }
    },
    {
      "cell_type": "code",
      "source": [
        "def add_calories(c1, c2):\n",
        "    \"\"\"Returns the sum of calories from two activities.\"\"\"\n",
        "    return c1 + c2\n",
        "def weekly_burn(cals_per_day):\n",
        "    \"\"\"\n",
        "    Calculates total calories burned in a week.\n",
        "    It calls add_calories 7 times for each day's burn.\n",
        "    \"\"\"\n",
        "    # Example: assume all 7 days have the same burn\n",
        "    total_weekly_calories = 0\n",
        "    for day in range(7):\n",
        "        # We assume cals_per_day is the burn for a single day\n",
        "        # For simplicity, let's treat it as the daily calorie input.\n",
        "        # In a real scenario, you might pass a list of 7 daily burns.\n",
        "        total_weekly_calories = add_calories(total_weekly_calories, cals_per_day)\n",
        "    return total_weekly_calories\n",
        "# Example Call: Assume daily burn is 500 calories (200 + 300)\n",
        "daily_burn = 500\n",
        "total_burned_in_week = weekly_burn(daily_burn)\n",
        "print(f\"Total calories burned in a week: {total_burned_in_week}\")"
      ],
      "metadata": {
        "colab": {
          "base_uri": "https://localhost:8080/"
        },
        "id": "8_0mY5rbYO3v",
        "outputId": "880b92e3-77cb-451d-e46e-278cbb98ecf6"
      },
      "execution_count": null,
      "outputs": [
        {
          "output_type": "stream",
          "name": "stdout",
          "text": [
            "Total calories burned in a week: 3500\n"
          ]
        }
      ]
    },
    {
      "cell_type": "markdown",
      "source": [
        "#Part B: Intermediate Functions (Q7 – Q13)"
      ],
      "metadata": {
        "id": "6xE7N9jaYapA"
      }
    },
    {
      "cell_type": "markdown",
      "source": [
        "Q7. Write a function fitness_profile(name, weight, height, age) that prints all details.\n",
        "\n",
        "Call it once using positional and once using keyword arguments."
      ],
      "metadata": {
        "id": "r4_D5aDnYjEA"
      }
    },
    {
      "cell_type": "code",
      "source": [
        "def fitness_profile(name, weight, height, age):\n",
        "    \"\"\"Prints all fitness details using positional and keyword arguments.\"\"\"\n",
        "    print(\"Fitness Profile:\")\n",
        "    print(f\"Name: {name}\")\n",
        "    print(f\"Weight: {weight} kg\")\n",
        "    print(f\"Height: {height} m\")\n",
        "    print(f\"Age: {age} years\")\n",
        "# Call the function using positional arguments\n",
        "print(\"\\nCall using positional arguments:\")\n",
        "fitness_profile(\"Amit\", 68, 1.75, 30)\n",
        "# Call the function using keyword arguments\n",
        "print(\"\\nCall using keyword arguments:\")\n",
        "fitness_profile(age=30, height=1.65, weight=70, name=\"Neha\")"
      ],
      "metadata": {
        "colab": {
          "base_uri": "https://localhost:8080/"
        },
        "id": "xwPz8EuOYpk2",
        "outputId": "4dcc5b1d-7574-4a2a-cfaf-e6c9062d2556"
      },
      "execution_count": null,
      "outputs": [
        {
          "output_type": "stream",
          "name": "stdout",
          "text": [
            "\n",
            "Call using positional arguments:\n",
            "Fitness Profile:\n",
            "Name: Amit\n",
            "Weight: 68 kg\n",
            "Height: 1.75 m\n",
            "Age: 30 years\n",
            "\n",
            "Call using keyword arguments:\n",
            "Fitness Profile:\n",
            "Name: Neha\n",
            "Weight: 70 kg\n",
            "Height: 1.65 m\n",
            "Age: 30 years\n"
          ]
        }
      ]
    },
    {
      "cell_type": "markdown",
      "source": [
        "Q8. Write a function total_calories(*args) that returns the sum of all given calorie values.\n",
        "\n",
        "Example: print(total_calories(200, 300, 150, 400))"
      ],
      "metadata": {
        "id": "bDFXZN1HY2OW"
      }
    },
    {
      "cell_type": "code",
      "source": [
        "def total_calories(*args):\n",
        "    \"\"\"Accepts any number of calorie values and returns their sum.\"\"\"\n",
        "    total = 0\n",
        "    for calorie in args:\n",
        "        total += calorie\n",
        "    return total\n",
        "# Example call\n",
        "print(total_calories(200, 300, 150, 400))"
      ],
      "metadata": {
        "colab": {
          "base_uri": "https://localhost:8080/"
        },
        "id": "YL1WdE1EY7J5",
        "outputId": "ab794dda-9b91-45b9-b2ea-6500e275a471"
      },
      "execution_count": null,
      "outputs": [
        {
          "output_type": "stream",
          "name": "stdout",
          "text": [
            "1050\n"
          ]
        }
      ]
    },
    {
      "cell_type": "markdown",
      "source": [
        "Q9. Define a function generate_profile(name, age, weight, height) that returns a dictionary with keys:\n",
        "\n",
        "Name, Age, Weight, Height, BMI."
      ],
      "metadata": {
        "id": "hYVLgREVZIyK"
      }
    },
    {
      "cell_type": "code",
      "source": [
        "def generate_profile(name, age, weight, height):\n",
        "    \"\"\"Calculates BMI and returns a profile dictionary.\"\"\"\n",
        "    bmi_val = weight / (height ** 2)\n",
        "    profile = {\n",
        "        'Name': name,\n",
        "        'Age': age,\n",
        "        'Weight': weight,\n",
        "        'Height': height,\n",
        "        'BMI': round(bmi_val, 8) # Rounding for cleaner output\n",
        "    }\n",
        "    return profile\n",
        "# Example call\n",
        "profile_data = generate_profile('Amit', 25, 68, 1.75)\n",
        "print(profile_data)"
      ],
      "metadata": {
        "colab": {
          "base_uri": "https://localhost:8080/"
        },
        "id": "45kmqIyNZScZ",
        "outputId": "1f5b4a9d-fb00-458f-eeb0-8a250cb8b2fb"
      },
      "execution_count": null,
      "outputs": [
        {
          "output_type": "stream",
          "name": "stdout",
          "text": [
            "{'Name': 'Amit', 'Age': 25, 'Weight': 68, 'Height': 1.75, 'BMI': 22.20408163}\n"
          ]
        }
      ]
    },
    {
      "cell_type": "markdown",
      "source": [
        "Q10. Create a global variable bonus = 100.\n",
        "Define a function calorie_reward(burn) that adds bonus to burn.\n",
        "\n",
        "Then redefine it using a local variable bonus = 200 and observe difference."
      ],
      "metadata": {
        "id": "YNEBwBxFZab_"
      }
    },
    {
      "cell_type": "code",
      "source": [
        "# Global variable\n",
        "bonus = 100\n",
        "def calorie_reward(burn):\n",
        "    return burn + bonus\n",
        "print(\"Global bonus:\", calorie_reward(300))\n",
        "# Redefine with local variable\n",
        "def calorie_reward(burn):\n",
        "    bonus = 200   # Local variable\n",
        "    return burn + bonus\n",
        "print(\"Local bonus:\", calorie_reward(300))"
      ],
      "metadata": {
        "colab": {
          "base_uri": "https://localhost:8080/"
        },
        "id": "AZTfeyoNZitY",
        "outputId": "fee18b11-fcc7-493e-def8-1219360dc4bb"
      },
      "execution_count": null,
      "outputs": [
        {
          "output_type": "stream",
          "name": "stdout",
          "text": [
            "Global bonus: 400\n",
            "Local bonus: 500\n"
          ]
        }
      ]
    },
    {
      "cell_type": "markdown",
      "source": [
        "Q11. Write a function calculate_HRR(max_bpm, resting_bpm, intensity=0.7) that returns Heart Rate\n",
        "Reserve zone."
      ],
      "metadata": {
        "id": "S2AykLvXadRf"
      }
    },
    {
      "cell_type": "code",
      "source": [
        "def calculate_HRR(max_bpm, resting_bpm, intensity=0.7):\n",
        "    \"\"\"Returns Heart Rate Reserve zone.\"\"\"\n",
        "    hrr = (max_bpm - resting_bpm) * intensity + resting_bpm\n",
        "    return round(hrr, 2)\n",
        "# Example calls\n",
        "print(\"HRR Zone (default intensity):\", calculate_HRR(190, 60))\n",
        "print(\"HRR Zone (80% intensity):\", calculate_HRR(190, 60, 0.8))"
      ],
      "metadata": {
        "colab": {
          "base_uri": "https://localhost:8080/"
        },
        "id": "v0wvQEqAai6J",
        "outputId": "c41a43df-3224-450e-b63a-d728ab54dbce"
      },
      "execution_count": null,
      "outputs": [
        {
          "output_type": "stream",
          "name": "stdout",
          "text": [
            "HRR Zone (default intensity): 151.0\n",
            "HRR Zone (80% intensity): 164.0\n"
          ]
        }
      ]
    },
    {
      "cell_type": "markdown",
      "source": [
        "Q12. Write a function daily_burns(calories_list) that prints burn for each day and returns total."
      ],
      "metadata": {
        "id": "wzABRdu3au6i"
      }
    },
    {
      "cell_type": "code",
      "source": [
        "def daily_burns(cals):\n",
        "    [print(f\"Day {i+1}: {c}\") for i, c in enumerate(cals)]\n",
        "    return sum(cals)\n",
        "print(\"Total:\", daily_burns([300, 350, 400, 450, 500, 550, 600]))"
      ],
      "metadata": {
        "colab": {
          "base_uri": "https://localhost:8080/"
        },
        "id": "kcrsUNDoa0F-",
        "outputId": "a40a7364-cac8-4892-bc0a-41a47c71d6c8"
      },
      "execution_count": null,
      "outputs": [
        {
          "output_type": "stream",
          "name": "stdout",
          "text": [
            "Day 1: 300\n",
            "Day 2: 350\n",
            "Day 3: 400\n",
            "Day 4: 450\n",
            "Day 5: 500\n",
            "Day 6: 550\n",
            "Day 7: 600\n",
            "Total: 3150\n"
          ]
        }
      ]
    },
    {
      "cell_type": "markdown",
      "source": [
        "Q13. Define a function filter_high_calories(calories, threshold) that returns all values > threshold.\n",
        "Use list comprehension inside."
      ],
      "metadata": {
        "id": "7nHZ_onObSmi"
      }
    },
    {
      "cell_type": "code",
      "source": [
        "def filter_high_calories(cals, threshold):\n",
        "    return [c for c in cals if c > threshold]\n",
        "print(filter_high_calories([200, 450, 300, 600, 150], 400))"
      ],
      "metadata": {
        "colab": {
          "base_uri": "https://localhost:8080/"
        },
        "id": "9YJ1b2YybYsQ",
        "outputId": "2d9f5624-09d1-4024-b9ab-9939964e1f0e"
      },
      "execution_count": null,
      "outputs": [
        {
          "output_type": "stream",
          "name": "stdout",
          "text": [
            "[450, 600]\n"
          ]
        }
      ]
    },
    {
      "cell_type": "markdown",
      "source": [
        "[200, 450, 300, 600, 150, 500]"
      ],
      "metadata": {
        "id": "-nK3MyKyTC2p"
      }
    },
    {
      "cell_type": "markdown",
      "source": [
        "#Part C: Advanced Concepts (Q14 – Q20)"
      ],
      "metadata": {
        "id": "s2wsqGPYboFi"
      }
    },
    {
      "cell_type": "markdown",
      "source": [
        "Q14. Create a lambda function for BMI:\n",
        "\n",
        "bmi = lambda w, h: w / (h ** 2)\n",
        "\n",
        "Print result for (70, 1.75)."
      ],
      "metadata": {
        "id": "Umz-oMgzbuEW"
      }
    },
    {
      "cell_type": "code",
      "source": [
        "# Create a lambda function for BMI: w/h**2\n",
        "bmi_lambda = lambda w, h: w / (h ** 2)\n",
        "# Print result for BMI(68, 1.75)\n",
        "weight = 68\n",
        "height = 1.75\n",
        "result = bmi_lambda(weight, height)\n",
        "print(f\"BMI({weight}, {height}) = {result}\")"
      ],
      "metadata": {
        "colab": {
          "base_uri": "https://localhost:8080/"
        },
        "id": "Y4X_m9lVb0mP",
        "outputId": "0735a014-a39e-4199-8437-70d387fd8aaf"
      },
      "execution_count": null,
      "outputs": [
        {
          "output_type": "stream",
          "name": "stdout",
          "text": [
            "BMI(68, 1.75) = 22.20408163265306\n"
          ]
        }
      ]
    },
    {
      "cell_type": "markdown",
      "source": [
        "Q15. Write a function square(n) and apply it using map() on [2,4,6,8].\n",
        "Print squared results."
      ],
      "metadata": {
        "id": "IXCkKjBkcDmB"
      }
    },
    {
      "cell_type": "code",
      "source": [
        "def square(x):\n",
        "    \"\"\"Returns the square of a number.\"\"\"\n",
        "    return x * x\n",
        "# Create a list of numbers\n",
        "numbers = [2, 4, 6, 8]\n",
        "# Use map() to apply the square() function to each element in the list\n",
        "squared_numbers_map = map(square, numbers)\n",
        "# Convert the map object to a list\n",
        "squared_numbers = list(squared_numbers_map)\n",
        "print(f\"Squared numbers: {squared_numbers}\")"
      ],
      "metadata": {
        "colab": {
          "base_uri": "https://localhost:8080/"
        },
        "id": "b-KzT6jacERq",
        "outputId": "711a443c-0b7c-495f-b956-d6b8a24a1520"
      },
      "execution_count": null,
      "outputs": [
        {
          "output_type": "stream",
          "name": "stdout",
          "text": [
            "Squared numbers: [4, 16, 36, 64]\n"
          ]
        }
      ]
    },
    {
      "cell_type": "markdown",
      "source": [
        "Q16. Write a function is_high_burn(x) that returns True if x > 1000.\n",
        "Use filter() on list [800, 1200, 950, 1500, 700, 2000]."
      ],
      "metadata": {
        "id": "waVbAP_7cPkk"
      }
    },
    {
      "cell_type": "code",
      "source": [
        "def is_high_burn(x): return x > 1000\n",
        "burns = [800, 1200, 950, 1500, 700, 2000]\n",
        "print(list(filter(is_high_burn, burns)))"
      ],
      "metadata": {
        "colab": {
          "base_uri": "https://localhost:8080/"
        },
        "id": "zHSDVRvrcQTI",
        "outputId": "e49ce35d-8e3a-40ce-bd79-e44b94ee722e"
      },
      "execution_count": null,
      "outputs": [
        {
          "output_type": "stream",
          "name": "stdout",
          "text": [
            "[1200, 1500, 2000]\n"
          ]
        }
      ]
    },
    {
      "cell_type": "markdown",
      "source": [
        "Q17. Write a recursive function sum_n(n) to return sum of first n natural numbers.\n",
        "Call sum_n(100)."
      ],
      "metadata": {
        "id": "W0JoOc8jcghu"
      }
    },
    {
      "cell_type": "code",
      "source": [
        "def sum_n(n):\n",
        "    \"\"\"Returns the sum of first n natural numbers recursively.\"\"\"\n",
        "    # Base case: when n is 1, the sum is 1\n",
        "    if n == 1:\n",
        "        return 1\n",
        "    # Recursive case: n + sum of numbers before it (n-1)\n",
        "    else:\n",
        "        return n + sum_n(n - 1)\n",
        "# Call the function with n = 100\n",
        "n_val = 100\n",
        "sum_of_n = sum_n(n_val)\n",
        "print(f\"Sum of first {n_val} natural numbers: {sum_of_n}\")"
      ],
      "metadata": {
        "colab": {
          "base_uri": "https://localhost:8080/"
        },
        "id": "tUiSNR7KchaG",
        "outputId": "37f2876d-5e67-4ceb-db6d-f3cd8db7454b"
      },
      "execution_count": null,
      "outputs": [
        {
          "output_type": "stream",
          "name": "stdout",
          "text": [
            "Sum of first 100 natural numbers: 5050\n"
          ]
        }
      ]
    },
    {
      "cell_type": "markdown",
      "source": [
        "Q18. Write a recursive function factorial(n) to return n!\n",
        "Call factorial(6)."
      ],
      "metadata": {
        "id": "dHUfISOhcnbI"
      }
    },
    {
      "cell_type": "code",
      "source": [
        "def factorial(n):\n",
        "    \"\"\"Returns the factorial of a number recursively.\"\"\"\n",
        "    # Base case: factorial of 0 or 1 is 1\n",
        "    if n == 0 or n == 1:\n",
        "        return 1\n",
        "    # Recursive case: n * factorial of (n-1)\n",
        "    else:\n",
        "        return n * factorial(n - 1)\n",
        "# Call the function with n = 6\n",
        "n_val = 6\n",
        "fact_val = factorial(n_val)\n",
        "print(f\"Factorial of {n_val} is: {fact_val}\")"
      ],
      "metadata": {
        "colab": {
          "base_uri": "https://localhost:8080/"
        },
        "id": "tPjt2w73cvKH",
        "outputId": "f52c3cb4-2404-4940-d2ee-63dcf0008205"
      },
      "execution_count": null,
      "outputs": [
        {
          "output_type": "stream",
          "name": "stdout",
          "text": [
            "Factorial of 6 is: 720\n"
          ]
        }
      ]
    },
    {
      "cell_type": "code",
      "source": [],
      "metadata": {
        "id": "gpgpOGLVc_sX"
      },
      "execution_count": null,
      "outputs": []
    },
    {
      "cell_type": "code",
      "source": [],
      "metadata": {
        "id": "obSUv_Kfc_o9"
      },
      "execution_count": null,
      "outputs": []
    },
    {
      "cell_type": "markdown",
      "source": [
        "Q19. Write a function mean_std(array) that returns mean and standard deviation using NumPy.\n",
        "\n",
        "Test: import numpy as np\n",
        "\n",
        "data = np.array([10,20,30,40,50])\n",
        "print(mean_std(data))\n"
      ],
      "metadata": {
        "id": "JsKm5eRMc7TX"
      }
    },
    {
      "cell_type": "code",
      "source": [
        "import numpy as np\n",
        "def mean_std(array):\n",
        "    \"\"\"\n",
        "    Returns the mean and standard deviation of a NumPy array.\n",
        "    \"\"\"\n",
        "    # Calculate mean using numpy's mean() function\n",
        "    mean_value = np.mean(array)\n",
        "    # Calculate standard deviation using numpy's std() function\n",
        "    std_value = np.std(array)\n",
        "    # Return both values as a tuple\n",
        "    return mean_value, std_value\n",
        "# Create a NumPy array\n",
        "data = np.array([10, 20, 30, 40, 50])\n",
        "# Call the function and print the result\n",
        "mean_val, std_val = mean_std(data)\n",
        "print(f\"Mean: {mean_val}, Standard Deviation: {std_val}\")\n",
        "# Example call from the image: mean_std of [10, 20, 30, 40, 50]\n",
        "print(f\"np.float64({mean_val}, {std_val})\")"
      ],
      "metadata": {
        "colab": {
          "base_uri": "https://localhost:8080/"
        },
        "id": "ViOVTmofc9-w",
        "outputId": "3f36912a-a463-47e2-cb59-d2b44d36a9a7"
      },
      "execution_count": null,
      "outputs": [
        {
          "output_type": "stream",
          "name": "stdout",
          "text": [
            "Mean: 30.0, Standard Deviation: 14.142135623730951\n",
            "np.float64(30.0, 14.142135623730951)\n"
          ]
        }
      ]
    },
    {
      "cell_type": "markdown",
      "source": [
        "Q20. Write a function plot_workout(time, calories) that plots a line chart using Matplotlib with:\n",
        "\n",
        "● X-axis = time\n",
        "\n",
        "● Y-axis = calories\n",
        "\n",
        "● Title = \"Workout Efficiency Tracker\""
      ],
      "metadata": {
        "id": "qLGi13tcdiMj"
      }
    },
    {
      "cell_type": "code",
      "source": [
        "# Import the Matplotlib library for plotting\n",
        "import matplotlib.pyplot as plt\n",
        "\n",
        "# Define a function to plot workout efficiency\n",
        "def plot_workout(time, calories):\n",
        "    # Plot a line graph of calories vs. time\n",
        "    plt.plot(time, calories, marker='D', linestyle='--', color='green', label='Calories Burned')\n",
        "    # Add labels for X and Y axes\n",
        "    plt.xlabel(\"Time (Hours)\")\n",
        "    plt.ylabel(\"Calories Burned\")\n",
        "    # Add a title to the chart\n",
        "    plt.title(\"Workout Efficiency Tracker\")\n",
        "    # Add a legend for clarity\n",
        "    plt.legend()\n",
        "    # Add grid lines for better visualization\n",
        "    plt.grid(True)\n",
        "    # Display the plot\n",
        "    plt.show()\n",
        "# Example data\n",
        "time = [1, 2, 3, 4, 5]             # Hours or workout sessions\n",
        "calories = [300, 450, 500, 550, 600]  # Calories burned per session\n",
        "# Call the function to display the plot\n",
        "plot_workout(time, calories)"
      ],
      "metadata": {
        "colab": {
          "base_uri": "https://localhost:8080/",
          "height": 472
        },
        "id": "PVlL4nASdkvl",
        "outputId": "99bce80e-012a-4eda-d7b7-27e739c4a091"
      },
      "execution_count": null,
      "outputs": [
        {
          "output_type": "display_data",
          "data": {
            "text/plain": [
              "<Figure size 640x480 with 1 Axes>"
            ],
            "image/png": "[encoded data removed]"
          },
          "metadata": {}
        }
      ]
    },
    {
      "cell_type": "markdown",
      "source": [
        "#Bonus Section (Q21 – Q25)"
      ],
      "metadata": {
        "id": "izpL5mk_eXUH"
      }
    },
    {
      "cell_type": "markdown",
      "source": [
        "Q21. Write a function to return top 5 calorie burners from your dataset (Final_data.csv)."
      ],
      "metadata": {
        "id": "BT-2tEC9eanA"
      }
    },
    {
      "cell_type": "code",
      "source": [
        "import pandas as pd\n",
        "import os\n",
        "def top_5_burners(file_path='Final_data.csv'):\n",
        "    \"\"\"Reads data, sorts by Calories_Burned, and returns the top 5 rows.\"\"\"\n",
        "    # Check if the file exists\n",
        "    if not os.path.exists(file_path):\n",
        "        return f\"Error: File '{file_path}' not found.\"\n",
        "    # Read the dataset\n",
        "    df = pd.read_csv(file_path)\n",
        "    # Check for the required column\n",
        "    if 'Calories_Burned' not in df.columns:\n",
        "        return \"Error: Column 'Calories_Burned' not found in the dataset.\"\n",
        "    # Sort the data in descending order of 'Calories_Burned'\n",
        "    df_sorted = df.sort_values(by='Calories_Burned', ascending=False)\n",
        "    # Select the top 5 rows\n",
        "    top_5 = df_sorted.head(5)\n",
        "    return top_5\n",
        "# Assuming 'Final_data.csv' exists in the current directory with the correct column:\n",
        "# top_burners_df = top_5_burners()\n",
        "# print(\"Top 5 Calorie Burners:\")\n",
        "# print(top_burners_df)\n",
        "print(top_5_burners())"
      ],
      "metadata": {
        "colab": {
          "base_uri": "https://localhost:8080/"
        },
        "id": "Pkm4kPd7eg-f",
        "outputId": "1013e7c6-0d56-4eec-879d-5a79ee2dd5a6"
      },
      "execution_count": null,
      "outputs": [
        {
          "output_type": "stream",
          "name": "stdout",
          "text": [
            "        Age  Gender  Weight (kg)  Height (m)  Max_BPM  Avg_BPM  Resting_BPM  \\\n",
            "8753  47.41  Female        87.41        1.64   177.14   164.64        49.85   \n",
            "441   46.95    Male        87.21        1.64   177.59   164.65        50.05   \n",
            "2647  41.05  Female        62.00        1.79   180.92   161.97        73.02   \n",
            "4081  41.19    Male        62.33        1.79   180.96   161.85        72.92   \n",
            "8199  40.59    Male        62.10        1.79   181.07   162.12        73.07   \n",
            "\n",
            "      Session_Duration (hours)  Calories_Burned Workout_Type  ...  \\\n",
            "8753                      2.02          2890.82         HIIT  ...   \n",
            "441                       2.01          2876.51         HIIT  ...   \n",
            "2647                      2.00          2864.40         HIIT  ...   \n",
            "4081                      2.00          2862.20         HIIT  ...   \n",
            "8199                      2.00          2860.00         HIIT  ...   \n",
            "\n",
            "      cal_from_macros  pct_carbs  protein_per_kg   pct_HRR  pct_maxHR  \\\n",
            "8753          1851.64   0.499622        1.065324  0.901799   0.929434   \n",
            "441           1858.80   0.502604        1.062149  0.898542   0.927136   \n",
            "2647          1235.01   0.498555        0.995806  0.824374   0.895258   \n",
            "4081          1245.99   0.500421        1.001123  0.823121   0.894397   \n",
            "8199          1246.61   0.501360        1.003543  0.824537   0.895344   \n",
            "\n",
            "      cal_balance  lean_mass_kg  expected_burn  \\\n",
            "8753      -538.82     58.588563      1394.6484   \n",
            "441       -497.51     60.247135      1386.9804   \n",
            "2647      -965.40     47.612507      1390.3200   \n",
            "4081     -1057.20     49.156203      1392.5600   \n",
            "8199     -1087.00     49.444541      1390.1600   \n",
            "\n",
            "      Burns Calories (per 30 min)_bc  Burns_Calories_Bin  \n",
            "8753                    7.728420e+19              Medium  \n",
            "441                     7.693745e+19              Medium  \n",
            "2647                    8.172624e+19              Medium  \n",
            "4081                    8.280800e+19              Medium  \n",
            "8199                    8.164945e+19              Medium  \n",
            "\n",
            "[5 rows x 54 columns]\n"
          ]
        }
      ]
    },
    {
      "cell_type": "markdown",
      "source": [
        "Q22. Write a function to calculate and print average heart rate by gender."
      ],
      "metadata": {
        "id": "iSFfWf20fveO"
      }
    },
    {
      "cell_type": "code",
      "source": [
        "# Import pandas for data handling\n",
        "import pandas as pd\n",
        "# Function to calculate and print average heart rate by gender\n",
        "def average_heart_rate_by_gender():\n",
        "    # Read dataset\n",
        "    df = pd.read_csv('/content/Final_data.csv')  # Change path if needed\n",
        "    # Preview first few rows\n",
        "    print(\"Preview of data:\")\n",
        "    print(df.head(), \"\\n\")\n",
        "    # Check for required columns\n",
        "    required_columns = ['Gender', 'Avg_BPM']\n",
        "    for col in required_columns:\n",
        "        if col not in df.columns:\n",
        "            raise ValueError(f\"Column '{col}' not found in dataset.\")\n",
        "    # Calculate average heart rate grouped by gender\n",
        "    avg_hr = df.groupby('Gender')['Avg_BPM'].mean()\n",
        "    # Print results\n",
        "    print(\"Average Heart Rate (Avg_BPM) by Gender:\")\n",
        "    for gender, rate in avg_hr.items():\n",
        "        print(f\"{gender}: {rate:.2f} bpm\")\n",
        "# Run the function\n",
        "average_heart_rate_by_gender()"
      ],
      "metadata": {
        "id": "R2HSiOa-fz9L",
        "colab": {
          "base_uri": "https://localhost:8080/"
        },
        "outputId": "36309907-2b51-4cec-d46c-6ccaac2514fc"
      },
      "execution_count": null,
      "outputs": [
        {
          "output_type": "stream",
          "name": "stdout",
          "text": [
            "Preview of data:\n",
            "     Age  Gender  Weight (kg)  Height (m)  Max_BPM  Avg_BPM  Resting_BPM  \\\n",
            "0  34.91    Male        65.27        1.62   188.58   157.65        69.05   \n",
            "1  23.37  Female        56.41        1.55   179.43   131.75        73.18   \n",
            "2  33.20  Female        58.98        1.67   175.04   123.95        54.96   \n",
            "3  38.69  Female        93.78        1.70   191.21   155.10        50.07   \n",
            "4  45.09    Male        52.42        1.88   193.58   152.88        70.84   \n",
            "\n",
            "   Session_Duration (hours)  Calories_Burned Workout_Type  ...  \\\n",
            "0                      1.00          1080.90     Strength  ...   \n",
            "1                      1.37          1809.91         HIIT  ...   \n",
            "2                      0.91           802.26       Cardio  ...   \n",
            "3                      1.10          1450.79         HIIT  ...   \n",
            "4                      1.08          1166.40     Strength  ...   \n",
            "\n",
            "   cal_from_macros  pct_carbs  protein_per_kg   pct_HRR  pct_maxHR  \\\n",
            "0          2139.59   0.500432        1.624789  0.741237   0.835985   \n",
            "1          1711.65   0.500850        1.514093  0.551247   0.734270   \n",
            "2          1965.92   0.500610        1.663445  0.574534   0.708124   \n",
            "3          1627.28   0.499533        0.862017  0.744155   0.811150   \n",
            "4          2659.23   0.500581        2.538153  0.668405   0.789751   \n",
            "\n",
            "   cal_balance  lean_mass_kg  expected_burn  Burns Calories (per 30 min)_bc  \\\n",
            "0       725.10     47.777394       685.1600                    7.260425e+19   \n",
            "1      -232.91     40.809803       978.6184                    1.020506e+20   \n",
            "2       805.74     44.635580       654.5266                    1.079607e+20   \n",
            "3      1206.21     63.007432       773.6300                    8.987921e+19   \n",
            "4       303.60     43.347504       711.4176                    5.264685e+19   \n",
            "\n",
            "   Burns_Calories_Bin  \n",
            "0              Medium  \n",
            "1                High  \n",
            "2                High  \n",
            "3                High  \n",
            "4                 Low  \n",
            "\n",
            "[5 rows x 54 columns] \n",
            "\n",
            "Average Heart Rate (Avg_BPM) by Gender:\n",
            "Female: 143.68 bpm\n",
            "Male: 143.73 bpm\n"
          ]
        }
      ]
    },
    {
      "cell_type": "markdown",
      "source": [
        "Q23. Write a function to visualize Calories_Burned vs Session_Duration for each Workout_Type using\n",
        "Matplotlib."
      ],
      "metadata": {
        "id": "SoQ9Z1sShJEx"
      }
    },
    {
      "cell_type": "code",
      "source": [
        "import pandas as pd, seaborn as sns, matplotlib.pyplot as plt, os\n",
        "def visualize_calories_vs_duration(file_path='/content/Final_data.csv'):\n",
        "    if not os.path.exists(file_path):\n",
        "        print(\"File not found\"); return\n",
        "    df = pd.read_csv(file_path)\n",
        "    df.columns = [c.lower().replace(' ', '_') for c in df.columns]\n",
        "    cal = [c for c in df.columns if 'calorie' in c][0]\n",
        "    dur = [c for c in df.columns if 'duration' in c][0]\n",
        "    work = [c for c in df.columns if 'workout' in c][0]\n",
        "    sns.scatterplot(data=df, x=dur, y=cal, hue=work, style=work, s=80, edgecolor='black', palette='Set2')\n",
        "    plt.title(\"Calories_Burned vs Session_Duration for each Workout_Type\")\n",
        "    plt.xlabel(\"Session Duration\"); plt.ylabel(\"Calories Burned\")\n",
        "    plt.grid(True, alpha=0.3); plt.tight_layout(); plt.show()\n",
        "\n",
        "visualize_calories_vs_duration()\n"
      ],
      "metadata": {
        "colab": {
          "base_uri": "https://localhost:8080/",
          "height": 487
        },
        "id": "gvmRH3CBPjif",
        "outputId": "ca00acdf-6665-4f49-f722-0bc36eb493ee"
      },
      "execution_count": 4,
      "outputs": [
        {
          "output_type": "display_data",
          "data": {
            "text/plain": [
              "<Figure size 640x480 with 1 Axes>"
            ],
            "image/png": "[encoded data removed]"
          },
          "metadata": {}
        }
      ]
    },
    {
      "cell_type": "markdown",
      "source": [
        "Q24. Write a function to compute correlation between any two numeric columns (column names taken\n",
        "from user input)."
      ],
      "metadata": {
        "id": "aTJJUrhVh0pc"
      }
    },
    {
      "cell_type": "code",
      "source": [
        "import pandas as pd, os\n",
        "\n",
        "def corr_cols(path='/content/Final_data.csv'):\n",
        "    if not os.path.exists(path): return print(\"File not found\")\n",
        "    df = pd.read_csv(path)\n",
        "    num = df.select_dtypes('number').columns\n",
        "    print(\"Numeric cols:\", list(num))\n",
        "    c1, c2 = input(\"Col1: \"), input(\"Col2: \")\n",
        "    if c1 not in num or c2 not in num: return print(\"Invalid cols\")\n",
        "    print(f\"Corr({c1},{c2}) = {df[c1].corr(df[c2]):.4f}\")\n",
        "\n",
        "corr_cols()\n"
      ],
      "metadata": {
        "colab": {
          "base_uri": "https://localhost:8080/"
        },
        "id": "mk0-sYs9PIWm",
        "outputId": "46cf2284-cc48-4300-835b-2b2158b0b460"
      },
      "execution_count": null,
      "outputs": [
        {
          "output_type": "stream",
          "name": "stdout",
          "text": [
            "Numeric cols: ['Age', 'Weight (kg)', 'Height (m)', 'Max_BPM', 'Avg_BPM', 'Resting_BPM', 'Session_Duration (hours)', 'Calories_Burned', 'Fat_Percentage', 'Water_Intake (liters)', 'Workout_Frequency (days/week)', 'Experience_Level', 'BMI', 'Daily meals frequency', 'Physical exercise', 'Carbs', 'Proteins', 'Fats', 'Calories', 'sugar_g', 'sodium_mg', 'cholesterol_mg', 'serving_size_g', 'prep_time_min', 'cook_time_min', 'rating', 'Sets', 'Reps', 'Burns Calories (per 30 min)', 'BMI_calc', 'cal_from_macros', 'pct_carbs', 'protein_per_kg', 'pct_HRR', 'pct_maxHR', 'cal_balance', 'lean_mass_kg', 'expected_burn', 'Burns Calories (per 30 min)_bc']\n",
            "Col1: Height (m)\n",
            "Col2: Resting_BPM\n",
            "Corr(Height (m),Resting_BPM) = 0.0099\n"
          ]
        }
      ]
    },
    {
      "cell_type": "markdown",
      "source": [
        "Q25. Write a function that creates and saves any Matplotlib plot as a PNG file automatically."
      ],
      "metadata": {
        "id": "gz6XgoX4h4Sv"
      }
    },
    {
      "cell_type": "code",
      "source": [
        "import matplotlib.pyplot as plt\n",
        "def save_plot_as_png_automatically():\n",
        "    # Sample data\n",
        "    time = [1, 2, 3, 4, 5, 6]  # X-axis: time in hours\n",
        "    calories = [100, 150, 210, 240, 320, 360]  # Y-axis: calories burned\n",
        "    # Create the plot\n",
        "    plt.figure(figsize=(8, 5))\n",
        "    plt.plot(time, calories, marker='o', linestyle=':', color='purple', label='Calories Burned vs Time')\n",
        "    # Add labels, title, and legend\n",
        "    plt.xlabel(\"Workout Time (hours)\")\n",
        "    plt.ylabel(\"Calories Burned\")\n",
        "    plt.title(\"Workout Progress Tracker\")\n",
        "    plt.legend()\n",
        "    plt.grid(True)\n",
        "    # Save the plot as a PNG file\n",
        "    plt.savefig(\"Workout_graph.png\", dpi=300)  # High-resolution save\n",
        "    plt.show()\n",
        "    # Confirmation message\n",
        "    print(\"Plot saved successfully as 'Workout_graph.png'\")\n",
        "# Calling function\n",
        "save_plot_as_png_automatically()"
      ],
      "metadata": {
        "colab": {
          "base_uri": "https://localhost:8080/",
          "height": 504
        },
        "id": "7-nHVeWxiZe4",
        "outputId": "4a6a3c93-0afa-44cc-c693-ae727bafa3ca"
      },
      "execution_count": 3,
      "outputs": [
        {
          "output_type": "display_data",
          "data": {
            "text/plain": [
              "<Figure size 800x500 with 1 Axes>"
            ],
            "image/png": "[encoded data removed]"
          },
          "metadata": {}
        },
        {
          "output_type": "stream",
          "name": "stdout",
          "text": [
            "Plot saved successfully as 'Workout_graph.png'\n"
          ]
        }
      ]
    }
  ]
}