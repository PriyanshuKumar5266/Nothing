{
  "nbformat": 4,
  "nbformat_minor": 0,
  "metadata": {
    "colab": {
      "provenance": [],
      "authorship_tag": "ABX9TyMmlirx1VaXUUOHNS+ckJRy",
      "include_colab_link": true
    },
    "kernelspec": {
      "name": "python3",
      "display_name": "Python 3"
    },
    "language_info": {
      "name": "python"
    }
  },
  "cells": [
    {
      "cell_type": "markdown",
      "metadata": {
        "id": "view-in-github",
        "colab_type": "text"
      },
      "source": [
        "<a href=\"https://colab.research.google.com/github/PriyanshuKumar5266/Nothing/blob/main/python.ipynb\" target=\"_parent\"><img src=\"https://colab.research.google.com/assets/colab-badge.svg\" alt=\"Open In Colab\"/></a>"
      ]
    },
    {
      "cell_type": "code",
      "execution_count": null,
      "metadata": {
        "id": "TStajWRC4Xu2"
      },
      "outputs": [],
      "source": []
    },
    {
      "cell_type": "markdown",
      "source": [
        "a = 10\n",
        "b = 20\n",
        "a,b = b,a\n",
        "print(a)\n",
        "print(b)"
      ],
      "metadata": {
        "id": "sBv93KVV98qM"
      }
    },
    {
      "cell_type": "code",
      "source": [
        "a = 10\n",
        "b = 20\n",
        "a,b = b,a\n",
        "print(a)\n",
        "print(b)\n"
      ],
      "metadata": {
        "colab": {
          "base_uri": "https://localhost:8080/"
        },
        "id": "-iKB9-y8-9-M",
        "outputId": "b56f6be9-1c31-4c5b-b366-1f16311305ed"
      },
      "execution_count": null,
      "outputs": [
        {
          "output_type": "stream",
          "name": "stdout",
          "text": [
            "20\n",
            "10\n"
          ]
        }
      ]
    },
    {
      "cell_type": "code",
      "source": [
        "thor_score=1000\n",
        "hulk_score=2000\n",
        "hulk_score,thor_score=hulk_score,thor_score\n",
        "print(hulk_score)\n",
        "print(thor_score)"
      ],
      "metadata": {
        "colab": {
          "base_uri": "https://localhost:8080/"
        },
        "id": "D1pC79Bx_lMz",
        "outputId": "aee4ad5a-baa8-408a-a2d6-0a77c2f5f305"
      },
      "execution_count": null,
      "outputs": [
        {
          "output_type": "stream",
          "name": "stdout",
          "text": [
            "2000\n",
            "1000\n"
          ]
        }
      ]
    },
    {
      "cell_type": "code",
      "source": [
        "hulk_strength=\"1000\"\n",
        "p = int(hulk_strength)\n",
        "print(p+200)"
      ],
      "metadata": {
        "colab": {
          "base_uri": "https://localhost:8080/"
        },
        "id": "mjl3shiGAjva",
        "outputId": "39f1f567-ef22-4638-a9c3-51e60181b3e8"
      },
      "execution_count": null,
      "outputs": [
        {
          "output_type": "stream",
          "name": "stdout",
          "text": [
            "1200\n"
          ]
        }
      ]
    },
    {
      "cell_type": "markdown",
      "source": [
        "1.loki gets input in seconds (as strings) : \"3600\" .convert it into an integer and then to hours. show final results as a float\n",
        "\n",
        "2iron man recorded 7 hits out of 10 shots(both integers) .convert them into float and calculate accuracy percentage."
      ],
      "metadata": {
        "id": "xLNQmEfZBI3y"
      }
    },
    {
      "cell_type": "code",
      "source": [
        "hits,total_shots=7,10\n",
        "acc = float(7/10)*100\n",
        "print(\"Acc % is : \",acc)\n",
        "print(f\"Acc: {acc:.2f}%\")"
      ],
      "metadata": {
        "colab": {
          "base_uri": "https://localhost:8080/"
        },
        "id": "aCePkYHDCN8j",
        "outputId": "fb35971c-2e19-477a-fa64-1bb9cbdaf904"
      },
      "execution_count": null,
      "outputs": [
        {
          "output_type": "stream",
          "name": "stdout",
          "text": [
            "Acc % is :  70.0\n",
            "Acc: 70.00%\n"
          ]
        }
      ]
    },
    {
      "cell_type": "code",
      "source": [
        "loki = \"3600\"\n",
        "hours = int(loki)/3600\n",
        "print(\"hour :\", float(hours))"
      ],
      "metadata": {
        "colab": {
          "base_uri": "https://localhost:8080/"
        },
        "id": "2ybTIZ8vDD1N",
        "outputId": "d27f7a07-5d5a-47f2-aa2a-3e740db74759"
      },
      "execution_count": null,
      "outputs": [
        {
          "output_type": "stream",
          "name": "stdout",
          "text": [
            "hour : 1.0\n"
          ]
        }
      ]
    },
    {
      "cell_type": "markdown",
      "source": [
        "object **referencing**  1.  python variable hold references to objects,not the actual object themselves"
      ],
      "metadata": {
        "id": "YoGV07aIEWq0"
      }
    },
    {
      "cell_type": "markdown",
      "source": [],
      "metadata": {
        "id": "vWQTq_dYF0oW"
      }
    },
    {
      "cell_type": "code",
      "source": [
        "a =[1,2,3]\n",
        "b = a\n",
        "print(f\"a :{a}\")\n",
        "b.append(4)\n",
        "print(f\"a :{a}\")\n",
        "print(f\"b :{b}\")"
      ],
      "metadata": {
        "colab": {
          "base_uri": "https://localhost:8080/"
        },
        "id": "jQhgtC3uGiqU",
        "outputId": "1f7d8578-a28e-4eae-ac09-d25416444fcf"
      },
      "execution_count": null,
      "outputs": [
        {
          "output_type": "stream",
          "name": "stdout",
          "text": [
            "a :[1, 2, 3]\n",
            "a :[1, 2, 3, 4]\n",
            "b :[1, 2, 3, 4]\n"
          ]
        }
      ]
    },
    {
      "cell_type": "code",
      "source": [
        "a =[1,2,3]\n",
        "b=a\n",
        "b=[4,5,6]\n",
        "print(f\"a :{a}\")\n",
        "print(f\"b :{b}\")\n"
      ],
      "metadata": {
        "colab": {
          "base_uri": "https://localhost:8080/"
        },
        "id": "Uy3E61uVHFhD",
        "outputId": "9cb05248-73c3-41cd-ccb2-c0d667f954c6"
      },
      "execution_count": null,
      "outputs": [
        {
          "output_type": "stream",
          "name": "stdout",
          "text": [
            "a :[1, 2, 3]\n",
            "b :[4, 5, 6]\n"
          ]
        }
      ]
    },
    {
      "cell_type": "markdown",
      "source": [
        "reassign\n",
        "**bold text**"
      ],
      "metadata": {
        "id": "GrCk4QK0Fqg4"
      }
    },
    {
      "cell_type": "markdown",
      "source": [
        "reassigning a variable doesn't affect other variable referencing the same object unless explicitly updated."
      ],
      "metadata": {
        "id": "-5NOYiwnHc2a"
      }
    },
    {
      "cell_type": "code",
      "source": [
        "shield = ['vibranium','round']\n",
        "copy_shield = shield\n",
        "print(\"original shield is\",shield)\n",
        "print(\"Wolverine changes the materials of shield.\")\n",
        "copy_shield[0] ='adamantium'\n",
        "print(\"New_shield\",shield)\n"
      ],
      "metadata": {
        "colab": {
          "base_uri": "https://localhost:8080/"
        },
        "id": "BsiBdfLOH1ph",
        "outputId": "d768963f-f456-474b-9fcd-c26bccd3c27a"
      },
      "execution_count": null,
      "outputs": [
        {
          "output_type": "stream",
          "name": "stdout",
          "text": [
            "original shield is ['vibranium', 'round']\n",
            "Wolverine changes the materials of shield.\n",
            "New_shield ['adamantium', 'round']\n"
          ]
        }
      ]
    },
    {
      "cell_type": "markdown",
      "source": [
        "removing a variable"
      ],
      "metadata": {
        "id": "mHJnBcEBLDws"
      }
    },
    {
      "cell_type": "code",
      "source": [
        "a =10\n",
        "del(a)\n",
        "print(\"a :\",a)\n"
      ],
      "metadata": {
        "colab": {
          "base_uri": "https://localhost:8080/",
          "height": 176
        },
        "id": "UwgINny1LL3d",
        "outputId": "7b2fe724-661f-480c-94fe-1c1059b028d4"
      },
      "execution_count": null,
      "outputs": [
        {
          "output_type": "error",
          "ename": "NameError",
          "evalue": "name 'a' is not defined",
          "traceback": [
            "\u001b[0;31m---------------------------------------------------------------------------\u001b[0m",
            "\u001b[0;31mNameError\u001b[0m                                 Traceback (most recent call last)",
            "\u001b[0;32m/tmp/ipython-input-3379880489.py\u001b[0m in \u001b[0;36m<cell line: 0>\u001b[0;34m()\u001b[0m\n\u001b[1;32m      1\u001b[0m \u001b[0ma\u001b[0m \u001b[0;34m=\u001b[0m\u001b[0;36m10\u001b[0m\u001b[0;34m\u001b[0m\u001b[0;34m\u001b[0m\u001b[0m\n\u001b[1;32m      2\u001b[0m \u001b[0;32mdel\u001b[0m\u001b[0;34m(\u001b[0m\u001b[0ma\u001b[0m\u001b[0;34m)\u001b[0m\u001b[0;34m\u001b[0m\u001b[0;34m\u001b[0m\u001b[0m\n\u001b[0;32m----> 3\u001b[0;31m \u001b[0mprint\u001b[0m\u001b[0;34m(\u001b[0m\u001b[0;34m\"a :\"\u001b[0m\u001b[0;34m,\u001b[0m\u001b[0ma\u001b[0m\u001b[0;34m)\u001b[0m\u001b[0;34m\u001b[0m\u001b[0;34m\u001b[0m\u001b[0m\n\u001b[0m",
            "\u001b[0;31mNameError\u001b[0m: name 'a' is not defined"
          ]
        }
      ]
    },
    {
      "cell_type": "markdown",
      "source": [],
      "metadata": {
        "id": "gKyT-BhTLYRW"
      }
    },
    {
      "cell_type": "code",
      "source": [
        "l = ['apple','banana','orange','grapes','pear']\n",
        "del l[0]\n",
        "print(\"list\",l)\n",
        "del l[2:4]\n",
        "print(\"list after slicing\",l)"
      ],
      "metadata": {
        "colab": {
          "base_uri": "https://localhost:8080/"
        },
        "id": "gu5CC6lfLZlC",
        "outputId": "68533d85-2ede-4848-a782-97ccc53a28f8"
      },
      "execution_count": null,
      "outputs": [
        {
          "output_type": "stream",
          "name": "stdout",
          "text": [
            "list ['banana', 'orange', 'grapes', 'pear']\n",
            "list after slicing ['banana', 'orange']\n"
          ]
        }
      ]
    },
    {
      "cell_type": "markdown",
      "source": [
        "slicing\n"
      ],
      "metadata": {
        "id": "WX13WKbEMSzj"
      }
    },
    {
      "cell_type": "code",
      "source": [],
      "metadata": {
        "id": "7e9fGXv6MVLG"
      },
      "execution_count": null,
      "outputs": []
    }
  ]
}